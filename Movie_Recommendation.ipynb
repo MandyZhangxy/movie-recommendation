{
  "nbformat": 4,
  "nbformat_minor": 0,
  "metadata": {
    "colab": {
      "name": "Movie-Recommendation.ipynb",
      "provenance": [],
      "authorship_tag": "ABX9TyPvWgJvT4cTDgt+c5GmAW24",
      "include_colab_link": true
    },
    "kernelspec": {
      "name": "python3",
      "display_name": "Python 3"
    }
  },
  "cells": [
    {
      "cell_type": "markdown",
      "metadata": {
        "id": "view-in-github",
        "colab_type": "text"
      },
      "source": [
        "<a href=\"https://colab.research.google.com/github/MandyZhangxy/movie-recommendation/blob/master/Movie_Recommendation.ipynb\" target=\"_parent\"><img src=\"https://colab.research.google.com/assets/colab-badge.svg\" alt=\"Open In Colab\"/></a>"
      ]
    },
    {
      "cell_type": "markdown",
      "metadata": {
        "id": "QEdBw-lLlDxe",
        "colab_type": "text"
      },
      "source": [
        "# **Movie Recommendation Project**\n",
        "In this project, I will use an Alternating Least Squares (ALS) algorithm with Spark APIs to predict the ratings for the movies in [MovieLens small dataset](https://grouplens.org/datasets/movielens/latest/)"
      ]
    },
    {
      "cell_type": "markdown",
      "metadata": {
        "id": "SvXz7KJUjMB4",
        "colab_type": "text"
      },
      "source": [
        "## **Running Pyspark in Colab**"
      ]
    },
    {
      "cell_type": "code",
      "metadata": {
        "id": "2YvvjUUFfnsB",
        "colab_type": "code",
        "colab": {}
      },
      "source": [
        "!apt-get install openjdk-8-jdk-headless -qq > /dev/null\n",
        "!wget -q https://www-us.apache.org/dist/spark/spark-2.4.5/spark-2.4.5-bin-hadoop2.7.tgz\n",
        "!tar xf spark-2.4.5-bin-hadoop2.7.tgz\n",
        "!pip install -q findspark"
      ],
      "execution_count": 0,
      "outputs": []
    },
    {
      "cell_type": "code",
      "metadata": {
        "id": "12XjfF8cftXz",
        "colab_type": "code",
        "colab": {}
      },
      "source": [
        "import os\n",
        "os.environ[\"JAVA_HOME\"] = \"/usr/lib/jvm/java-8-openjdk-amd64\"\n",
        "os.environ[\"SPARK_HOME\"] = \"/content/spark-2.4.5-bin-hadoop2.7\""
      ],
      "execution_count": 0,
      "outputs": []
    },
    {
      "cell_type": "code",
      "metadata": {
        "id": "GBTCA-aEgBId",
        "colab_type": "code",
        "colab": {}
      },
      "source": [
        "import findspark\n",
        "findspark.init()\n",
        "from pyspark.sql import SparkSession\n",
        "spark = SparkSession.builder.master(\"local[*]\").getOrCreate()"
      ],
      "execution_count": 0,
      "outputs": []
    },
    {
      "cell_type": "markdown",
      "metadata": {
        "id": "gPMvLxP3jZB3",
        "colab_type": "text"
      },
      "source": [
        "## **Setting up environment**"
      ]
    },
    {
      "cell_type": "code",
      "metadata": {
        "id": "LW7wiAUEgEfc",
        "colab_type": "code",
        "colab": {
          "base_uri": "https://localhost:8080/",
          "height": 71
        },
        "outputId": "4bcd80cc-1434-4bdd-a7c1-fd47228e0255"
      },
      "source": [
        "%matplotlib inline\n",
        "import os\n",
        "\n",
        "import numpy as np\n",
        "import pandas as pd\n",
        "import seaborn as sns\n",
        "\n",
        "# from nba_utils import draw_3pt_piechart,plot_shot_chart\n",
        "\n",
        "from IPython.core.display import display, HTML\n",
        "from IPython.core.magic import register_cell_magic, register_line_cell_magic, register_line_magic\n",
        "from matplotlib import pyplot as plt\n",
        "from pyspark.ml.regression import LinearRegression\n",
        "from pyspark.ml.feature import VectorAssembler\n",
        "from pyspark.sql.functions import array, col, count, mean, sum, udf, when\n",
        "from pyspark.sql.types import DoubleType, IntegerType, StringType, Row\n",
        "from pyspark.sql.functions import sum, col, udf\n",
        "\n",
        "import warnings\n",
        "warnings.filterwarnings(\"ignore\")\n",
        "\n",
        "sns.set_style(\"white\")\n",
        "sns.set_color_codes()"
      ],
      "execution_count": 4,
      "outputs": [
        {
          "output_type": "stream",
          "text": [
            "/usr/local/lib/python3.6/dist-packages/statsmodels/tools/_testing.py:19: FutureWarning: pandas.util.testing is deprecated. Use the functions in the public API at pandas.testing instead.\n",
            "  import pandas.util.testing as tm\n"
          ],
          "name": "stderr"
        }
      ]
    },
    {
      "cell_type": "code",
      "metadata": {
        "id": "YvW9mRCBgiTp",
        "colab_type": "code",
        "colab": {
          "base_uri": "https://localhost:8080/",
          "height": 34
        },
        "outputId": "506545ae-e92c-412e-886a-ae5e1c9159c5"
      },
      "source": [
        "!ls"
      ],
      "execution_count": 5,
      "outputs": [
        {
          "output_type": "stream",
          "text": [
            "sample_data  spark-2.4.5-bin-hadoop2.7\tspark-2.4.5-bin-hadoop2.7.tgz\n"
          ],
          "name": "stdout"
        }
      ]
    },
    {
      "cell_type": "code",
      "metadata": {
        "id": "V9I3aRcRgjjX",
        "colab_type": "code",
        "colab": {}
      },
      "source": [
        "from pyspark.sql import SparkSession\n",
        "spark = SparkSession \\\n",
        "    .builder \\\n",
        "    .appName(\"moive analysis\") \\\n",
        "    .config(\"spark.some.config.option\", \"some-value\") \\\n",
        "    .getOrCreate()"
      ],
      "execution_count": 0,
      "outputs": []
    },
    {
      "cell_type": "markdown",
      "metadata": {
        "id": "f_1901cbjk_U",
        "colab_type": "text"
      },
      "source": [
        "### **Data ETL and Data Exploration**"
      ]
    },
    {
      "cell_type": "code",
      "metadata": {
        "id": "yKjFBuRXjArK",
        "colab_type": "code",
        "colab": {
          "resources": {
            "http://localhost:8080/nbextensions/google.colab/files.js": {
              "data": "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",
              "ok": true,
              "headers": [
                [
                  "content-type",
                  "application/javascript"
                ]
              ],
              "status": 200,
              "status_text": ""
            }
          },
          "base_uri": "https://localhost:8080/",
          "height": 173
        },
        "outputId": "cdea02e0-ab63-428e-db25-83a5d7ae10e1"
      },
      "source": [
        "from google.colab import files\n",
        "files.upload()\n",
        "\n",
        "movies_df = spark.read.load(\"movies.csv\", format=\"csv\",header = True)\n",
        "ratings_df = spark.read.load(\"ratings.csv\", format = \"csv\", header = True)\n",
        "links_df = spark.read.load(\"ratings.csv\", format = \"csv\", header = True)\n",
        "tags_df = spark.read.load(\"tags.csv\", format = \"csv\", header = True)"
      ],
      "execution_count": 8,
      "outputs": [
        {
          "output_type": "display_data",
          "data": {
            "text/html": [
              "\n",
              "     <input type=\"file\" id=\"files-cea11bc3-1821-42c6-9867-a832d22fcc1f\" name=\"files[]\" multiple disabled />\n",
              "     <output id=\"result-cea11bc3-1821-42c6-9867-a832d22fcc1f\">\n",
              "      Upload widget is only available when the cell has been executed in the\n",
              "      current browser session. Please rerun this cell to enable.\n",
              "      </output>\n",
              "      <script src=\"/nbextensions/google.colab/files.js\"></script> "
            ],
            "text/plain": [
              "<IPython.core.display.HTML object>"
            ]
          },
          "metadata": {
            "tags": []
          }
        },
        {
          "output_type": "stream",
          "text": [
            "Saving links.csv to links.csv\n",
            "Saving movies.csv to movies.csv\n",
            "Saving ratings.csv to ratings.csv\n",
            "Saving tags.csv to tags.csv\n"
          ],
          "name": "stdout"
        }
      ]
    },
    {
      "cell_type": "code",
      "metadata": {
        "id": "Bkjt0tlzkaKt",
        "colab_type": "code",
        "colab": {
          "base_uri": "https://localhost:8080/",
          "height": 51
        },
        "outputId": "101ac59f-b1b0-4cf2-cbfe-966176491519"
      },
      "source": [
        "!ls"
      ],
      "execution_count": 9,
      "outputs": [
        {
          "output_type": "stream",
          "text": [
            "links.csv   ratings.csv  spark-2.4.5-bin-hadoop2.7\ttags.csv\n",
            "movies.csv  sample_data  spark-2.4.5-bin-hadoop2.7.tgz\n"
          ],
          "name": "stdout"
        }
      ]
    },
    {
      "cell_type": "code",
      "metadata": {
        "id": "-785zbG-jqWo",
        "colab_type": "code",
        "colab": {
          "base_uri": "https://localhost:8080/",
          "height": 204
        },
        "outputId": "fa33b475-36ff-40c3-c5b5-c33f82c5c742"
      },
      "source": [
        "movies_df.show(5)"
      ],
      "execution_count": 10,
      "outputs": [
        {
          "output_type": "stream",
          "text": [
            "+-------+--------------------+--------------------+\n",
            "|movieId|               title|              genres|\n",
            "+-------+--------------------+--------------------+\n",
            "|      1|    Toy Story (1995)|Adventure|Animati...|\n",
            "|      2|      Jumanji (1995)|Adventure|Childre...|\n",
            "|      3|Grumpier Old Men ...|      Comedy|Romance|\n",
            "|      4|Waiting to Exhale...|Comedy|Drama|Romance|\n",
            "|      5|Father of the Bri...|              Comedy|\n",
            "+-------+--------------------+--------------------+\n",
            "only showing top 5 rows\n",
            "\n"
          ],
          "name": "stdout"
        }
      ]
    },
    {
      "cell_type": "code",
      "metadata": {
        "id": "-dbYHwiHkc7-",
        "colab_type": "code",
        "colab": {
          "base_uri": "https://localhost:8080/",
          "height": 204
        },
        "outputId": "ce9f1d7c-0a62-4ca9-eeff-440f11f26ded"
      },
      "source": [
        "ratings_df.show(5)"
      ],
      "execution_count": 11,
      "outputs": [
        {
          "output_type": "stream",
          "text": [
            "+------+-------+------+---------+\n",
            "|userId|movieId|rating|timestamp|\n",
            "+------+-------+------+---------+\n",
            "|     1|      1|   4.0|964982703|\n",
            "|     1|      3|   4.0|964981247|\n",
            "|     1|      6|   4.0|964982224|\n",
            "|     1|     47|   5.0|964983815|\n",
            "|     1|     50|   5.0|964982931|\n",
            "+------+-------+------+---------+\n",
            "only showing top 5 rows\n",
            "\n"
          ],
          "name": "stdout"
        }
      ]
    },
    {
      "cell_type": "code",
      "metadata": {
        "id": "AIl01QNCkuBa",
        "colab_type": "code",
        "colab": {
          "base_uri": "https://localhost:8080/",
          "height": 204
        },
        "outputId": "79220978-e8b4-4281-b853-53e6fec1a3c2"
      },
      "source": [
        "links_df.show(5)"
      ],
      "execution_count": 12,
      "outputs": [
        {
          "output_type": "stream",
          "text": [
            "+------+-------+------+---------+\n",
            "|userId|movieId|rating|timestamp|\n",
            "+------+-------+------+---------+\n",
            "|     1|      1|   4.0|964982703|\n",
            "|     1|      3|   4.0|964981247|\n",
            "|     1|      6|   4.0|964982224|\n",
            "|     1|     47|   5.0|964983815|\n",
            "|     1|     50|   5.0|964982931|\n",
            "+------+-------+------+---------+\n",
            "only showing top 5 rows\n",
            "\n"
          ],
          "name": "stdout"
        }
      ]
    },
    {
      "cell_type": "code",
      "metadata": {
        "id": "p1age5-akv1g",
        "colab_type": "code",
        "colab": {
          "base_uri": "https://localhost:8080/",
          "height": 204
        },
        "outputId": "a409f213-60a7-48c2-be0b-ce54c7792428"
      },
      "source": [
        "tags_df.show(5)"
      ],
      "execution_count": 13,
      "outputs": [
        {
          "output_type": "stream",
          "text": [
            "+------+-------+---------------+----------+\n",
            "|userId|movieId|            tag| timestamp|\n",
            "+------+-------+---------------+----------+\n",
            "|     2|  60756|          funny|1445714994|\n",
            "|     2|  60756|Highly quotable|1445714996|\n",
            "|     2|  60756|   will ferrell|1445714992|\n",
            "|     2|  89774|   Boxing story|1445715207|\n",
            "|     2|  89774|            MMA|1445715200|\n",
            "+------+-------+---------------+----------+\n",
            "only showing top 5 rows\n",
            "\n"
          ],
          "name": "stdout"
        }
      ]
    },
    {
      "cell_type": "code",
      "metadata": {
        "id": "3O_ymHiekySf",
        "colab_type": "code",
        "colab": {
          "base_uri": "https://localhost:8080/",
          "height": 459
        },
        "outputId": "a8f24b22-5d68-4bd9-8e84-6ef102cfb80e"
      },
      "source": [
        "ratings_df.groupBy(\"userID\").count().show()"
      ],
      "execution_count": 14,
      "outputs": [
        {
          "output_type": "stream",
          "text": [
            "+------+-----+\n",
            "|userID|count|\n",
            "+------+-----+\n",
            "|   296|   27|\n",
            "|   467|   22|\n",
            "|   125|  360|\n",
            "|   451|   34|\n",
            "|     7|  152|\n",
            "|    51|  359|\n",
            "|   124|   50|\n",
            "|   447|   78|\n",
            "|   591|   54|\n",
            "|   307|  975|\n",
            "|   475|  155|\n",
            "|   574|   23|\n",
            "|   169|  269|\n",
            "|   205|   27|\n",
            "|   334|  154|\n",
            "|   544|   22|\n",
            "|   577|  161|\n",
            "|   581|   40|\n",
            "|   272|   31|\n",
            "|   442|   20|\n",
            "+------+-----+\n",
            "only showing top 20 rows\n",
            "\n"
          ],
          "name": "stdout"
        }
      ]
    },
    {
      "cell_type": "code",
      "metadata": {
        "id": "uUxU47ySnocm",
        "colab_type": "code",
        "colab": {
          "base_uri": "https://localhost:8080/",
          "height": 68
        },
        "outputId": "10054e0c-117c-4087-a82d-f60101203970"
      },
      "source": [
        "tmp1 = ratings_df.groupBy(\"userID\").count().toPandas()['count'].min()\n",
        "tmp2 = ratings_df.groupBy(\"movieId\").count().toPandas()['count'].min()\n",
        "print('For the users that rated movies and the movies that were rated:')\n",
        "print('Minimum number of ratings per user is {}'.format(tmp1))\n",
        "print('Minimum number of ratings per movie is {}'.format(tmp2))"
      ],
      "execution_count": 15,
      "outputs": [
        {
          "output_type": "stream",
          "text": [
            "For the users that rated movies and the movies that were rated:\n",
            "Minimum number of ratings per user is 20\n",
            "Minimum number of ratings per movie is 1\n"
          ],
          "name": "stdout"
        }
      ]
    },
    {
      "cell_type": "code",
      "metadata": {
        "id": "-Ezm1lP9ny7V",
        "colab_type": "code",
        "colab": {
          "base_uri": "https://localhost:8080/",
          "height": 34
        },
        "outputId": "656ff6e9-6730-443f-d7a6-360f4118f235"
      },
      "source": [
        "tmp1 = ratings_df.groupBy(\"movieId\").count().toPandas()['count']==1\n",
        "tmp2 = ratings_df.select('movieId').distinct().count()\n",
        "print('{} out of {} movies are rated by only one user'.format(tmp1.sum(), tmp2))"
      ],
      "execution_count": 16,
      "outputs": [
        {
          "output_type": "stream",
          "text": [
            "3446 out of 9724 movies are rated by only one user\n"
          ],
          "name": "stdout"
        }
      ]
    },
    {
      "cell_type": "markdown",
      "metadata": {
        "id": "V-u82y-Tph3h",
        "colab_type": "text"
      },
      "source": [
        "## **Spark SQL and OLAP**"
      ]
    },
    {
      "cell_type": "markdown",
      "metadata": {
        "id": "PawKGcmbyVL7",
        "colab_type": "text"
      },
      "source": [
        "### Register the DataFrame as a local temporary view"
      ]
    },
    {
      "cell_type": "code",
      "metadata": {
        "id": "DqBd1t3Mn6nl",
        "colab_type": "code",
        "colab": {}
      },
      "source": [
        "movies_df.registerTempTable(\"movies\")\n",
        "ratings_df.registerTempTable(\"ratings\")\n",
        "links_df.registerTempTable(\"links\")\n",
        "tags_df.registerTempTable(\"tags\")"
      ],
      "execution_count": 0,
      "outputs": []
    },
    {
      "cell_type": "markdown",
      "metadata": {
        "id": "zklIwof7yVoU",
        "colab_type": "text"
      },
      "source": [
        "### The number of Users\n"
      ]
    },
    {
      "cell_type": "code",
      "metadata": {
        "id": "ZMJqfLQguHSq",
        "colab_type": "code",
        "colab": {
          "base_uri": "https://localhost:8080/",
          "height": 119
        },
        "outputId": "2a7ba999-6b6a-4d01-fd57-9a82b6397308"
      },
      "source": [
        "spark.sql(\n",
        "\"select count(distinct userId) as total_users from ratings\"\n",
        ").show()"
      ],
      "execution_count": 18,
      "outputs": [
        {
          "output_type": "stream",
          "text": [
            "+-----------+\n",
            "|total_users|\n",
            "+-----------+\n",
            "|        610|\n",
            "+-----------+\n",
            "\n"
          ],
          "name": "stdout"
        }
      ]
    },
    {
      "cell_type": "markdown",
      "metadata": {
        "id": "ymjsE-BPy_u-",
        "colab_type": "text"
      },
      "source": [
        "### The number of Movies"
      ]
    },
    {
      "cell_type": "code",
      "metadata": {
        "id": "m7mAPlOgyizx",
        "colab_type": "code",
        "colab": {
          "base_uri": "https://localhost:8080/",
          "height": 119
        },
        "outputId": "cdcfdf20-184c-40c0-d82c-7c74b5732aea"
      },
      "source": [
        "spark.sql(\n",
        "    \"select count(distinct movieId) as total_movies from movies\"\n",
        "\n",
        ").show()"
      ],
      "execution_count": 19,
      "outputs": [
        {
          "output_type": "stream",
          "text": [
            "+------------+\n",
            "|total_movies|\n",
            "+------------+\n",
            "|        9742|\n",
            "+------------+\n",
            "\n"
          ],
          "name": "stdout"
        }
      ]
    },
    {
      "cell_type": "markdown",
      "metadata": {
        "id": "C-IR78JCzS2a",
        "colab_type": "text"
      },
      "source": [
        "### numbers of movies that are rated by users:"
      ]
    },
    {
      "cell_type": "code",
      "metadata": {
        "id": "3ij42NzHzLDk",
        "colab_type": "code",
        "colab": {
          "base_uri": "https://localhost:8080/",
          "height": 119
        },
        "outputId": "511a89d4-5a29-4a8a-e110-a16a3d637fa2"
      },
      "source": [
        "spark.sql(\n",
        "    '''\n",
        "    with t as \n",
        "    (select m.movieId, title, genres,userId, rating from \n",
        "    movies m left join ratings r\n",
        "    on m.movieId = r.movieId)\n",
        "\n",
        "    select count(distinct movieId) \n",
        "    from t\n",
        "    where rating is not null\n",
        "    '''\n",
        ").show()"
      ],
      "execution_count": 20,
      "outputs": [
        {
          "output_type": "stream",
          "text": [
            "+-----------------------+\n",
            "|count(DISTINCT movieId)|\n",
            "+-----------------------+\n",
            "|                   9724|\n",
            "+-----------------------+\n",
            "\n"
          ],
          "name": "stdout"
        }
      ]
    },
    {
      "cell_type": "markdown",
      "metadata": {
        "id": "bdOuczDlz4j-",
        "colab_type": "text"
      },
      "source": [
        "### Movies not rated before:"
      ]
    },
    {
      "cell_type": "code",
      "metadata": {
        "id": "c22fCp7WzfhV",
        "colab_type": "code",
        "colab": {
          "base_uri": "https://localhost:8080/",
          "height": 0
        },
        "outputId": "6e0cc7af-2a23-41e4-e373-f65baf04d4e0"
      },
      "source": [
        "spark.sql(\n",
        "    '''\n",
        "    with t as \n",
        "    (select m.movieId, title, genres,userId, rating from \n",
        "    movies m left join ratings r\n",
        "    on m.movieId = r.movieId)\n",
        "\n",
        "    select movieId, title,genres\n",
        "    from t\n",
        "    where rating is null\n",
        "    group by 1,2,3\n",
        "    '''\n",
        ").show()"
      ],
      "execution_count": 21,
      "outputs": [
        {
          "output_type": "stream",
          "text": [
            "+-------+--------------------+--------------------+\n",
            "|movieId|               title|              genres|\n",
            "+-------+--------------------+--------------------+\n",
            "|   4194|I Know Where I'm ...|   Drama|Romance|War|\n",
            "|   1076|Innocents, The (1...|Drama|Horror|Thri...|\n",
            "|  30892|In the Realms of ...|Animation|Documen...|\n",
            "|  26085|Mutiny on the Bou...|Adventure|Drama|R...|\n",
            "|   5721|  Chosen, The (1981)|               Drama|\n",
            "|  32160|Twentieth Century...|              Comedy|\n",
            "|   2939|      Niagara (1953)|      Drama|Thriller|\n",
            "|  25855|Roaring Twenties,...|Crime|Drama|Thriller|\n",
            "|  32371|Call Northside 77...|Crime|Drama|Film-...|\n",
            "|   6849|      Scrooge (1970)|Drama|Fantasy|Mus...|\n",
            "|   3338|For All Mankind (...|         Documentary|\n",
            "|  85565|  Chalet Girl (2011)|      Comedy|Romance|\n",
            "|   7792|Parallax View, Th...|            Thriller|\n",
            "|   6668|Road Home, The (W...|       Drama|Romance|\n",
            "|   3456|Color of Paradise...|               Drama|\n",
            "|   7020|        Proof (1991)|Comedy|Drama|Romance|\n",
            "|   8765|This Gun for Hire...|Crime|Film-Noir|T...|\n",
            "|  34482|Browning Version,...|               Drama|\n",
            "+-------+--------------------+--------------------+\n",
            "\n"
          ],
          "name": "stdout"
        }
      ]
    },
    {
      "cell_type": "markdown",
      "metadata": {
        "id": "c33BhJ6e0Yfp",
        "colab_type": "text"
      },
      "source": [
        "### List All Movie Genres"
      ]
    },
    {
      "cell_type": "code",
      "metadata": {
        "id": "V2fwFomT0lr8",
        "colab_type": "code",
        "colab": {
          "base_uri": "https://localhost:8080/",
          "height": 0
        },
        "outputId": "c90ad5ba-1c72-455e-d5ac-2f763e218526"
      },
      "source": [
        "spark.sql(\n",
        "    \"\"\"\n",
        "    select movie_genres from movies\n",
        "    lateral view explode(split(genres, '[|]')) as movie_genres \n",
        "    where movie_genres <> \"(no genres listed)\"\n",
        "    group by 1\n",
        "    order by 1\n",
        "    \"\"\"\n",
        ").show()"
      ],
      "execution_count": 22,
      "outputs": [
        {
          "output_type": "stream",
          "text": [
            "+------------+\n",
            "|movie_genres|\n",
            "+------------+\n",
            "|      Action|\n",
            "|   Adventure|\n",
            "|   Animation|\n",
            "|    Children|\n",
            "|      Comedy|\n",
            "|       Crime|\n",
            "| Documentary|\n",
            "|       Drama|\n",
            "|     Fantasy|\n",
            "|   Film-Noir|\n",
            "|      Horror|\n",
            "|        IMAX|\n",
            "|     Musical|\n",
            "|     Mystery|\n",
            "|     Romance|\n",
            "|      Sci-Fi|\n",
            "|    Thriller|\n",
            "|         War|\n",
            "|     Western|\n",
            "+------------+\n",
            "\n"
          ],
          "name": "stdout"
        }
      ]
    },
    {
      "cell_type": "markdown",
      "metadata": {
        "id": "uzYnKap01T9y",
        "colab_type": "text"
      },
      "source": [
        "### Count Movie for Each Category"
      ]
    },
    {
      "cell_type": "code",
      "metadata": {
        "id": "DA_MMrzg0IE-",
        "colab_type": "code",
        "colab": {
          "base_uri": "https://localhost:8080/",
          "height": 0
        },
        "outputId": "e8756266-9de5-48c7-e454-c63346e5fa1c"
      },
      "source": [
        "spark.sql(\n",
        "    \"\"\"\n",
        "select movie_genres,count(*) as total_movies from movies\n",
        "lateral view explode(split(genres,'[|]')) as movie_genres\n",
        "group by 1\n",
        "\"\"\").show()"
      ],
      "execution_count": 23,
      "outputs": [
        {
          "output_type": "stream",
          "text": [
            "+------------------+------------+\n",
            "|      movie_genres|total_movies|\n",
            "+------------------+------------+\n",
            "|             Crime|        1199|\n",
            "|           Romance|        1596|\n",
            "|          Thriller|        1894|\n",
            "|         Adventure|        1263|\n",
            "|             Drama|        4361|\n",
            "|               War|         382|\n",
            "|       Documentary|         440|\n",
            "|           Fantasy|         779|\n",
            "|           Mystery|         573|\n",
            "|           Musical|         334|\n",
            "|         Animation|         611|\n",
            "|         Film-Noir|          87|\n",
            "|(no genres listed)|          34|\n",
            "|              IMAX|         158|\n",
            "|            Horror|         978|\n",
            "|           Western|         167|\n",
            "|            Comedy|        3756|\n",
            "|          Children|         664|\n",
            "|            Action|        1828|\n",
            "|            Sci-Fi|         980|\n",
            "+------------------+------------+\n",
            "\n"
          ],
          "name": "stdout"
        }
      ]
    },
    {
      "cell_type": "markdown",
      "metadata": {
        "id": "M_7IdDzz1toy",
        "colab_type": "text"
      },
      "source": [
        "### List all movie names in each category"
      ]
    },
    {
      "cell_type": "code",
      "metadata": {
        "id": "tjfwXb8e1eyV",
        "colab_type": "code",
        "colab": {
          "base_uri": "https://localhost:8080/",
          "height": 442
        },
        "outputId": "e2972282-170e-4634-f7af-85b54cf7500f"
      },
      "source": [
        "spark.sql(\n",
        "    \"\"\"\n",
        "    select t1.movie_genres, concat_ws(\"|\",collect_set(t1.title)) as list_of_movies\n",
        "    from\n",
        "    (\n",
        "    select title,movie_genres from movies\n",
        "    lateral view explode(split(genres, '[|]')) as movie_genres\n",
        "    group by 1,2\n",
        "    ) t1\n",
        "    group by 1    \n",
        "    \"\"\"\n",
        ").show()"
      ],
      "execution_count": 24,
      "outputs": [
        {
          "output_type": "stream",
          "text": [
            "+------------------+--------------------+\n",
            "|      movie_genres|      list_of_movies|\n",
            "+------------------+--------------------+\n",
            "|             Crime|Stealing Rembrand...|\n",
            "|           Romance|Vampire in Brookl...|\n",
            "|          Thriller|Element of Crime,...|\n",
            "|         Adventure|Ice Age: Collisio...|\n",
            "|             Drama|Airport '77 (1977...|\n",
            "|               War|General, The (192...|\n",
            "|       Documentary|The Barkley Marat...|\n",
            "|           Fantasy|Masters of the Un...|\n",
            "|           Mystery|Before and After ...|\n",
            "|           Musical|U2: Rattle and Hu...|\n",
            "|         Animation|Ice Age: Collisio...|\n",
            "|         Film-Noir|Rififi (Du rififi...|\n",
            "|(no genres listed)|T2 3-D: Battle Ac...|\n",
            "|              IMAX|Harry Potter and ...|\n",
            "|            Horror|Sweeney Todd (200...|\n",
            "|           Western|Man Who Shot Libe...|\n",
            "|            Comedy|Hysteria (2011)|H...|\n",
            "|          Children|Ice Age: Collisio...|\n",
            "|            Action|Stealing Rembrand...|\n",
            "|            Sci-Fi|Push (2009)|SORI:...|\n",
            "+------------------+--------------------+\n",
            "\n"
          ],
          "name": "stdout"
        }
      ]
    },
    {
      "cell_type": "markdown",
      "metadata": {
        "id": "nhocSyE5BTno",
        "colab_type": "text"
      },
      "source": [
        "## **Spark ALS based approach for training model**\n",
        "using an Spark ML to predict the ratings"
      ]
    },
    {
      "cell_type": "markdown",
      "metadata": {
        "id": "Xq5NdDCwFeNM",
        "colab_type": "text"
      },
      "source": [
        "ALS (or matrix factorization algorithms) can solve three major problem is user-item matrix:\n",
        "* **Popularity bias**: refers to system recommends the movies with the most interactions without any personalization.\n",
        "* **Item cold-start problem**: refers to when movies added to the catalogue have either none or very little interactions while recommender rely on the movie’s interactions to make recommendations.\n",
        "* **Scalability issue**: refers to lack of the ability to scale to much larger sets of data when more and more users and movies added into our database.\n",
        "\n",
        "\n",
        "matrix factorization algorithms work by decomposing the user-item interaction matrix into the product of two lower dimensionality rectangular matrices. One matrix can be seen as the user matrix where rows represent users and columns are latent factors. The other matrix is the item matrix where rows are latent factors and columns represent items."
      ]
    },
    {
      "cell_type": "code",
      "metadata": {
        "id": "RRPEs6YeCFQq",
        "colab_type": "code",
        "colab": {}
      },
      "source": [
        "from pyspark.ml.evaluation import RegressionEvaluator\n",
        "from pyspark.ml.recommendation import ALS\n",
        "from pyspark.sql import Row\n",
        "from pyspark.ml.tuning import TrainValidationSplit,ParamGridBuilder"
      ],
      "execution_count": 0,
      "outputs": []
    },
    {
      "cell_type": "code",
      "metadata": {
        "id": "f1-zOBtS2Ubq",
        "colab_type": "code",
        "colab": {
          "base_uri": "https://localhost:8080/",
          "height": 102
        },
        "outputId": "b0b0ee8f-a518-4eb3-ad57-787ebd17094b"
      },
      "source": [
        "ratings_df.head(5)"
      ],
      "execution_count": 26,
      "outputs": [
        {
          "output_type": "execute_result",
          "data": {
            "text/plain": [
              "[Row(userId='1', movieId='1', rating='4.0', timestamp='964982703'),\n",
              " Row(userId='1', movieId='3', rating='4.0', timestamp='964981247'),\n",
              " Row(userId='1', movieId='6', rating='4.0', timestamp='964982224'),\n",
              " Row(userId='1', movieId='47', rating='5.0', timestamp='964983815'),\n",
              " Row(userId='1', movieId='50', rating='5.0', timestamp='964982931')]"
            ]
          },
          "metadata": {
            "tags": []
          },
          "execution_count": 26
        }
      ]
    },
    {
      "cell_type": "code",
      "metadata": {
        "id": "KNdK1R_RCFvN",
        "colab_type": "code",
        "colab": {
          "base_uri": "https://localhost:8080/",
          "height": 119
        },
        "outputId": "f292f903-d578-41e1-b458-4675ec198df2"
      },
      "source": [
        "ratings_df.printSchema()"
      ],
      "execution_count": 27,
      "outputs": [
        {
          "output_type": "stream",
          "text": [
            "root\n",
            " |-- userId: string (nullable = true)\n",
            " |-- movieId: string (nullable = true)\n",
            " |-- rating: string (nullable = true)\n",
            " |-- timestamp: string (nullable = true)\n",
            "\n"
          ],
          "name": "stdout"
        }
      ]
    },
    {
      "cell_type": "code",
      "metadata": {
        "id": "75VzdlqZDwYe",
        "colab_type": "code",
        "colab": {}
      },
      "source": [
        "# convert data type in each column\n",
        "ratings_df=ratings_df.withColumn(\"rating\",ratings_df[\"rating\"].cast(\"float\").alias(\"rating\"))\n",
        "ratings_df=ratings_df.withColumn(\"userId\",ratings_df[\"userId\"].cast(\"float\").alias(\"userId\"))\n",
        "ratings_df=ratings_df.withColumn(\"movieId\",ratings_df[\"movieId\"].cast(\"float\").alias(\"movieId\"))"
      ],
      "execution_count": 0,
      "outputs": []
    },
    {
      "cell_type": "code",
      "metadata": {
        "id": "p-KnBA398ZA6",
        "colab_type": "code",
        "colab": {}
      },
      "source": [
        ""
      ],
      "execution_count": 0,
      "outputs": []
    },
    {
      "cell_type": "code",
      "metadata": {
        "id": "fMbUYOmEzrYN",
        "colab_type": "code",
        "colab": {
          "base_uri": "https://localhost:8080/",
          "height": 119
        },
        "outputId": "b4d7c949-4fc2-47bd-e753-9987451e9a4d"
      },
      "source": [
        "ratings_df.printSchema()"
      ],
      "execution_count": 29,
      "outputs": [
        {
          "output_type": "stream",
          "text": [
            "root\n",
            " |-- userId: float (nullable = true)\n",
            " |-- movieId: float (nullable = true)\n",
            " |-- rating: float (nullable = true)\n",
            " |-- timestamp: string (nullable = true)\n",
            "\n"
          ],
          "name": "stdout"
        }
      ]
    },
    {
      "cell_type": "code",
      "metadata": {
        "id": "7KTZ5roaCv8q",
        "colab_type": "code",
        "colab": {}
      },
      "source": [
        "# split into traning and testing dataset \n",
        "(training, test) = ratings_df.randomSplit([0.8, 0.2],seed = 1)"
      ],
      "execution_count": 0,
      "outputs": []
    },
    {
      "cell_type": "code",
      "metadata": {
        "id": "EIpgF8PiCaiu",
        "colab_type": "code",
        "colab": {}
      },
      "source": [
        "# Create ALS model\n",
        "als = ALS(userCol = \"userId\", itemCol=\"movieId\", ratingCol=\"rating\",coldStartStrategy=\"drop\", nonnegative=True)"
      ],
      "execution_count": 0,
      "outputs": []
    },
    {
      "cell_type": "code",
      "metadata": {
        "id": "o9MmGgHE4PDh",
        "colab_type": "code",
        "colab": {}
      },
      "source": [
        "# Tune model using ParamGridBuilder\n",
        "param_grid = ParamGridBuilder().addGrid(als.rank, [8,10,12]).addGrid(als.maxIter, [10,13,16]).addGrid(als.regParam,[0.1,0.15,0.2]).build()\n"
      ],
      "execution_count": 0,
      "outputs": []
    },
    {
      "cell_type": "code",
      "metadata": {
        "id": "EFcuAfcl4PCV",
        "colab_type": "code",
        "colab": {}
      },
      "source": [
        "# Define evaluator as RMSE\n",
        "evaluator = RegressionEvaluator(metricName=\"rmse\", labelCol=\"rating\", predictionCol=\"prediction\")"
      ],
      "execution_count": 0,
      "outputs": []
    },
    {
      "cell_type": "code",
      "metadata": {
        "id": "p8tmTDWz4PA9",
        "colab_type": "code",
        "colab": {}
      },
      "source": [
        "# build cross validation using TranValidationSplit:\n",
        "tvs = TrainValidationSplit(\n",
        "    estimator = als,\n",
        "    estimatorParamMaps=param_grid,\n",
        "    evaluator = evaluator\n",
        ")"
      ],
      "execution_count": 0,
      "outputs": []
    },
    {
      "cell_type": "code",
      "metadata": {
        "id": "bfVqreJh4O_y",
        "colab_type": "code",
        "colab": {}
      },
      "source": [
        "# Fit ALS model to training data\n",
        "model = tvs.fit(training)"
      ],
      "execution_count": 0,
      "outputs": []
    },
    {
      "cell_type": "code",
      "metadata": {
        "id": "wbZo-RQe4O-t",
        "colab_type": "code",
        "colab": {}
      },
      "source": [
        "# Extract best model from the tuning exercise using ParamGridBuilder\n",
        "best_model = model.bestModel"
      ],
      "execution_count": 0,
      "outputs": []
    },
    {
      "cell_type": "markdown",
      "metadata": {
        "id": "6UGMIko1NBgQ",
        "colab_type": "text"
      },
      "source": [
        "### Model Performance Review"
      ]
    },
    {
      "cell_type": "code",
      "metadata": {
        "id": "-erRrKcc4O10",
        "colab_type": "code",
        "colab": {
          "base_uri": "https://localhost:8080/",
          "height": 102
        },
        "outputId": "5f6038ce-f377-4008-b8b8-5eb887024134"
      },
      "source": [
        "# Generate predictions and evaluate using RMSE\n",
        "predictions = best_model.transform(test)\n",
        "rmse = evaluator.evaluate(predictions)\n",
        "\n",
        "# Print evaluation metrics and model paramters\n",
        "print(\"RMSE = \" + str(rmse))\n",
        "print(\"**Best Model**\")\n",
        "print(\" Rank:\", best_model.rank)\n",
        "print(\" Max Iteration:\", best_model._java_obj.parent().getMaxIter())\n",
        "print(\" Regularization Prameter:\", best_model._java_obj.parent().getRegParam())"
      ],
      "execution_count": 38,
      "outputs": [
        {
          "output_type": "stream",
          "text": [
            "RMSE = 0.8683452447775787\n",
            "**Best Model**\n",
            " Rank: 8\n",
            " Max Iteration: 16\n",
            " Regularization Prameter: 0.15\n"
          ],
          "name": "stdout"
        }
      ]
    },
    {
      "cell_type": "code",
      "metadata": {
        "id": "yJLZmZZ24OxR",
        "colab_type": "code",
        "colab": {
          "base_uri": "https://localhost:8080/",
          "height": 459
        },
        "outputId": "dd5814c9-1f6d-4a49-e89b-6e8fadc07a69"
      },
      "source": [
        "predictions.sort(\"userId\",\"rating\").show()"
      ],
      "execution_count": 39,
      "outputs": [
        {
          "output_type": "stream",
          "text": [
            "+------+-------+------+---------+----------+\n",
            "|userId|movieId|rating|timestamp|prediction|\n",
            "+------+-------+------+---------+----------+\n",
            "|   1.0| 2253.0|   2.0|964981775|  2.810391|\n",
            "|   1.0| 2093.0|   3.0|964981710| 3.8446262|\n",
            "|   1.0| 1580.0|   3.0|964981125| 4.0631766|\n",
            "|   1.0| 2528.0|   3.0|964982328| 3.7057185|\n",
            "|   1.0| 1920.0|   4.0|964981780|  3.663424|\n",
            "|   1.0| 2143.0|   4.0|964981725| 3.5299761|\n",
            "|   1.0|  356.0|   4.0|964980962|  4.957389|\n",
            "|   1.0| 2268.0|   4.0|964982989| 4.4709234|\n",
            "|   1.0| 2000.0|   4.0|964982211|  4.498873|\n",
            "|   1.0| 2174.0|   4.0|964981680|  4.363098|\n",
            "|   1.0| 3479.0|   4.0|964981725| 3.8514338|\n",
            "|   1.0| 2012.0|   4.0|964984176|  4.112434|\n",
            "|   1.0| 2193.0|   4.0|964981710| 3.9646702|\n",
            "|   1.0|  733.0|   4.0|964982400| 4.0464654|\n",
            "|   1.0| 2797.0|   4.0|964981710|  4.580347|\n",
            "|   1.0|  590.0|   4.0|964982546| 4.1709065|\n",
            "|   1.0| 2105.0|   4.0|964981725| 3.7055383|\n",
            "|   1.0|  441.0|   4.0|964980868| 4.7324114|\n",
            "|   1.0|  804.0|   4.0|964980499| 3.7447224|\n",
            "|   1.0| 1032.0|   5.0|964982791| 4.1472273|\n",
            "+------+-------+------+---------+----------+\n",
            "only showing top 20 rows\n",
            "\n"
          ],
          "name": "stdout"
        }
      ]
    },
    {
      "cell_type": "markdown",
      "metadata": {
        "id": "MHIjl5PAN4md",
        "colab_type": "text"
      },
      "source": [
        "### Integrate all movie details with prediction"
      ]
    },
    {
      "cell_type": "code",
      "metadata": {
        "id": "6rQTdEtoN-_1",
        "colab_type": "code",
        "colab": {
          "base_uri": "https://localhost:8080/",
          "height": 204
        },
        "outputId": "98fccadd-67d0-41f5-beac-6cb91f979307"
      },
      "source": [
        "# predictions of all movies\n",
        "all_ratings = best_model.transform(ratings_df)\n",
        "all_ratings.sort(\"userId\",\"rating\").show(5)"
      ],
      "execution_count": 49,
      "outputs": [
        {
          "output_type": "stream",
          "text": [
            "+------+-------+------+---------+----------+\n",
            "|userId|movieId|rating|timestamp|prediction|\n",
            "+------+-------+------+---------+----------+\n",
            "|   1.0| 3176.0|   1.0|964983504| 3.6588602|\n",
            "|   1.0| 2617.0|   2.0|964982588|  3.573943|\n",
            "|   1.0| 2389.0|   2.0|964983094| 2.1139872|\n",
            "|   1.0| 2253.0|   2.0|964981775|  2.810391|\n",
            "|   1.0| 1219.0|   2.0|964983393|  4.621076|\n",
            "+------+-------+------+---------+----------+\n",
            "only showing top 5 rows\n",
            "\n"
          ],
          "name": "stdout"
        }
      ]
    },
    {
      "cell_type": "code",
      "metadata": {
        "id": "TlfLRIJ1Ofz0",
        "colab_type": "code",
        "colab": {
          "base_uri": "https://localhost:8080/",
          "height": 204
        },
        "outputId": "7b8c6b81-27f1-4e2f-ec09-2792097bee5b"
      },
      "source": [
        "# combine all tables together\n",
        "all_ratings.registerTempTable(\"movie_ratings\")\n",
        "output = spark.sql(\"\"\"\n",
        "select m.movieId,m.title, m.genres, mr.userId, mr.rating, mr.prediction as predicted_rating from movie_ratings mr\n",
        "join movies m\n",
        "on m.movieId = mr.movieId\n",
        "order by 1\n",
        "\"\"\")\n",
        "output.show(5)"
      ],
      "execution_count": 55,
      "outputs": [
        {
          "output_type": "stream",
          "text": [
            "+-------+----------------+--------------------+------+------+----------------+\n",
            "|movieId|           title|              genres|userId|rating|predicted_rating|\n",
            "+-------+----------------+--------------------+------+------+----------------+\n",
            "|      1|Toy Story (1995)|Adventure|Animati...| 580.0|   3.0|       3.3192892|\n",
            "|      1|Toy Story (1995)|Adventure|Animati...| 451.0|   5.0|        4.193929|\n",
            "|      1|Toy Story (1995)|Adventure|Animati...| 137.0|   4.0|       3.5978155|\n",
            "|      1|Toy Story (1995)|Adventure|Animati...|  31.0|   5.0|        4.268749|\n",
            "|      1|Toy Story (1995)|Adventure|Animati...| 471.0|   5.0|       3.2545033|\n",
            "+-------+----------------+--------------------+------+------+----------------+\n",
            "only showing top 5 rows\n",
            "\n"
          ],
          "name": "stdout"
        }
      ]
    },
    {
      "cell_type": "markdown",
      "metadata": {
        "id": "duQV_g6FQWFm",
        "colab_type": "text"
      },
      "source": [
        "### Recommend Movie to Users with User Id 575, 232"
      ]
    },
    {
      "cell_type": "code",
      "metadata": {
        "id": "t_T6BJfo4Ovz",
        "colab_type": "code",
        "colab": {}
      },
      "source": [
        "# recommend top 10 movies for each user:\n",
        "user_recs = best_model.recommendForAllUsers(10)"
      ],
      "execution_count": 0,
      "outputs": []
    },
    {
      "cell_type": "code",
      "metadata": {
        "id": "G3rCLECYCi5C",
        "colab_type": "code",
        "colab": {}
      },
      "source": [
        "# helper function to get recommendation for single user\n",
        "def get_recs_for_user(recs,user_id):\n",
        "  # recs should be for a specific user\n",
        "  recs = recs.filter(recs.userId == user_id)\n",
        "  recs = recs.select(\"recommendations.movieId\",\"recommendations.rating\")\n",
        "  movies = recs.select(\"movieId\").toPandas().iloc[0,0]\n",
        "  ratings = recs.select(\"rating\").toPandas().iloc[0,0]\n",
        "  ratings_matrix = pd.DataFrame(movies, columns = [\"movieId\"])\n",
        "  ratings_matrix[\"ratings\"] = ratings\n",
        "  ratings_matrix_ps = spark.createDataFrame(ratings_matrix)\n",
        "  ratings_matrix_ps.registerTempTable(\"rec_user_id\")\n",
        "  output = spark.sql(\"\"\"\n",
        "  select m.movieId, m.title, m.genres, mr.ratings as predicted_rating \n",
        "  from rec_user_id mr\n",
        "  join movies m\n",
        "  on m.movieId = mr.movieId\n",
        "  order by 1\n",
        "  \"\"\")\n",
        "  return output"
      ],
      "execution_count": 0,
      "outputs": []
    },
    {
      "cell_type": "code",
      "metadata": {
        "id": "jznuK2c7Ji-Q",
        "colab_type": "code",
        "colab": {
          "base_uri": "https://localhost:8080/",
          "height": 272
        },
        "outputId": "c6fce4bd-e7f3-4976-c80c-7ceeb8db4d83"
      },
      "source": [
        "rec_575 = get_recs_for_user(user_recs, 575)\n",
        "rec_575.show()"
      ],
      "execution_count": 70,
      "outputs": [
        {
          "output_type": "stream",
          "text": [
            "+-------+--------------------+--------------------+-----------------+\n",
            "|movieId|               title|              genres| predicted_rating|\n",
            "+-------+--------------------+--------------------+-----------------+\n",
            "|  25947|Unfaithfully Your...|              Comedy|5.152613639831543|\n",
            "|  26326|Holy Mountain, Th...|               Drama|5.103254795074463|\n",
            "|  27555|        Fubar (2002)|              Comedy|5.154544830322266|\n",
            "|  33649|  Saving Face (2004)|Comedy|Drama|Romance|5.230558395385742|\n",
            "|  40491|Match Factory Gir...|        Comedy|Drama|5.099648952484131|\n",
            "|  68945|Neon Genesis Evan...|Action|Animation|...|5.295875549316406|\n",
            "|   8477|    Jetée, La (1962)|      Romance|Sci-Fi|5.188567638397217|\n",
            "|  84847|         Emma (2009)|Comedy|Drama|Romance|5.218502998352051|\n",
            "|  87234|    Submarine (2010)|Comedy|Drama|Romance|5.070328712463379|\n",
            "|  99764|It's Such a Beaut...|Animation|Comedy|...|5.099648952484131|\n",
            "+-------+--------------------+--------------------+-----------------+\n",
            "\n"
          ],
          "name": "stdout"
        }
      ]
    },
    {
      "cell_type": "code",
      "metadata": {
        "id": "IXOWPjqLSF3M",
        "colab_type": "code",
        "colab": {
          "base_uri": "https://localhost:8080/",
          "height": 272
        },
        "outputId": "78af4d19-d96d-441f-c2e1-792760d4f253"
      },
      "source": [
        "rec_232 = get_recs_for_user(user_recs, 232)\n",
        "rec_232.show()"
      ],
      "execution_count": 71,
      "outputs": [
        {
          "output_type": "stream",
          "text": [
            "+-------+--------------------+--------------------+------------------+\n",
            "|movieId|               title|              genres|  predicted_rating|\n",
            "+-------+--------------------+--------------------+------------------+\n",
            "| 117531|    Watermark (2014)|         Documentary|  4.62070894241333|\n",
            "| 138966|Nasu: Summer in A...|           Animation|  4.62070894241333|\n",
            "| 179135|Blue Planet II (2...|         Documentary|  4.62070894241333|\n",
            "| 184245|De platte jungle ...|         Documentary|  4.62070894241333|\n",
            "|  26073|Human Condition I...|           Drama|War|  4.62070894241333|\n",
            "|  59018| Visitor, The (2007)|       Drama|Romance|4.6876444816589355|\n",
            "|  68945|Neon Genesis Evan...|Action|Animation|...| 4.751951694488525|\n",
            "|   7481|   Enemy Mine (1985)|Adventure|Drama|S...|4.6876444816589355|\n",
            "|   7841|Children of Dune ...|      Fantasy|Sci-Fi|4.6876444816589355|\n",
            "|  84273|Zeitgeist: Moving...|         Documentary|  4.62070894241333|\n",
            "+-------+--------------------+--------------------+------------------+\n",
            "\n"
          ],
          "name": "stdout"
        }
      ]
    },
    {
      "cell_type": "code",
      "metadata": {
        "id": "OojvmR2q4OqJ",
        "colab_type": "code",
        "colab": {}
      },
      "source": [
        ""
      ],
      "execution_count": 0,
      "outputs": []
    },
    {
      "cell_type": "code",
      "metadata": {
        "id": "Secqkeet4OoO",
        "colab_type": "code",
        "colab": {}
      },
      "source": [
        ""
      ],
      "execution_count": 0,
      "outputs": []
    },
    {
      "cell_type": "code",
      "metadata": {
        "id": "y1bA6_B14OmO",
        "colab_type": "code",
        "colab": {}
      },
      "source": [
        ""
      ],
      "execution_count": 0,
      "outputs": []
    },
    {
      "cell_type": "code",
      "metadata": {
        "id": "oijKF7sw4Okb",
        "colab_type": "code",
        "colab": {}
      },
      "source": [
        ""
      ],
      "execution_count": 0,
      "outputs": []
    },
    {
      "cell_type": "code",
      "metadata": {
        "id": "Y4gZcuVG4OhE",
        "colab_type": "code",
        "colab": {}
      },
      "source": [
        ""
      ],
      "execution_count": 0,
      "outputs": []
    },
    {
      "cell_type": "code",
      "metadata": {
        "id": "iMUb-e_O4OeY",
        "colab_type": "code",
        "colab": {}
      },
      "source": [
        ""
      ],
      "execution_count": 0,
      "outputs": []
    },
    {
      "cell_type": "code",
      "metadata": {
        "id": "7ykXvHonC35h",
        "colab_type": "code",
        "colab": {}
      },
      "source": [
        ""
      ],
      "execution_count": 0,
      "outputs": []
    }
  ]
}