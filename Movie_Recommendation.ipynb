{
  "nbformat": 4,
  "nbformat_minor": 0,
  "metadata": {
    "colab": {
      "name": "Movie-Recommendation.ipynb",
      "provenance": [],
      "authorship_tag": "ABX9TyOiT1GOZweXBheEZ4WT+1Df",
      "include_colab_link": true
    },
    "kernelspec": {
      "name": "python3",
      "display_name": "Python 3"
    }
  },
  "cells": [
    {
      "cell_type": "markdown",
      "metadata": {
        "id": "view-in-github",
        "colab_type": "text"
      },
      "source": [
        "<a href=\"https://colab.research.google.com/github/MandyZhangxy/movie-recommendation/blob/master/Movie_Recommendation.ipynb\" target=\"_parent\"><img src=\"https://colab.research.google.com/assets/colab-badge.svg\" alt=\"Open In Colab\"/></a>"
      ]
    },
    {
      "cell_type": "markdown",
      "metadata": {
        "id": "QEdBw-lLlDxe",
        "colab_type": "text"
      },
      "source": [
        "# **Movie Recommendation Project**\n",
        "In this project, I will use an Alternating Least Squares (ALS) algorithm with Spark APIs to predict the ratings for the movies in [MovieLens small dataset](https://grouplens.org/datasets/movielens/latest/)"
      ]
    },
    {
      "cell_type": "markdown",
      "metadata": {
        "id": "SvXz7KJUjMB4",
        "colab_type": "text"
      },
      "source": [
        "## **Running Pyspark in Colab**"
      ]
    },
    {
      "cell_type": "code",
      "metadata": {
        "id": "2YvvjUUFfnsB",
        "colab_type": "code",
        "colab": {}
      },
      "source": [
        "!apt-get install openjdk-8-jdk-headless -qq > /dev/null\n",
        "!wget -q https://www-us.apache.org/dist/spark/spark-2.4.5/spark-2.4.5-bin-hadoop2.7.tgz\n",
        "!tar xf spark-2.4.5-bin-hadoop2.7.tgz\n",
        "!pip install -q findspark"
      ],
      "execution_count": 0,
      "outputs": []
    },
    {
      "cell_type": "code",
      "metadata": {
        "id": "12XjfF8cftXz",
        "colab_type": "code",
        "colab": {}
      },
      "source": [
        "import os\n",
        "os.environ[\"JAVA_HOME\"] = \"/usr/lib/jvm/java-8-openjdk-amd64\"\n",
        "os.environ[\"SPARK_HOME\"] = \"/content/spark-2.4.5-bin-hadoop2.7\""
      ],
      "execution_count": 0,
      "outputs": []
    },
    {
      "cell_type": "code",
      "metadata": {
        "id": "GBTCA-aEgBId",
        "colab_type": "code",
        "colab": {}
      },
      "source": [
        "import findspark\n",
        "findspark.init()\n",
        "from pyspark.sql import SparkSession\n",
        "spark = SparkSession.builder.master(\"local[*]\").getOrCreate()"
      ],
      "execution_count": 0,
      "outputs": []
    },
    {
      "cell_type": "markdown",
      "metadata": {
        "id": "gPMvLxP3jZB3",
        "colab_type": "text"
      },
      "source": [
        "## **Setting up environment**"
      ]
    },
    {
      "cell_type": "code",
      "metadata": {
        "id": "LW7wiAUEgEfc",
        "colab_type": "code",
        "colab": {
          "base_uri": "https://localhost:8080/",
          "height": 71
        },
        "outputId": "df54d13f-a190-4717-b65c-4baf5f6e3d4d"
      },
      "source": [
        "%matplotlib inline\n",
        "import os\n",
        "\n",
        "import numpy as np\n",
        "import pandas as pd\n",
        "import seaborn as sns\n",
        "\n",
        "# from nba_utils import draw_3pt_piechart,plot_shot_chart\n",
        "\n",
        "from IPython.core.display import display, HTML\n",
        "from IPython.core.magic import register_cell_magic, register_line_cell_magic, register_line_magic\n",
        "from matplotlib import pyplot as plt\n",
        "from pyspark.ml.regression import LinearRegression\n",
        "from pyspark.ml.feature import VectorAssembler\n",
        "from pyspark.sql.functions import array, col, count, mean, sum, udf, when\n",
        "from pyspark.sql.types import DoubleType, IntegerType, StringType, Row\n",
        "from pyspark.sql.functions import sum, col, udf\n",
        "\n",
        "import warnings\n",
        "warnings.filterwarnings(\"ignore\")\n",
        "\n",
        "sns.set_style(\"white\")\n",
        "sns.set_color_codes()"
      ],
      "execution_count": 4,
      "outputs": [
        {
          "output_type": "stream",
          "text": [
            "/usr/local/lib/python3.6/dist-packages/statsmodels/tools/_testing.py:19: FutureWarning: pandas.util.testing is deprecated. Use the functions in the public API at pandas.testing instead.\n",
            "  import pandas.util.testing as tm\n"
          ],
          "name": "stderr"
        }
      ]
    },
    {
      "cell_type": "code",
      "metadata": {
        "id": "YvW9mRCBgiTp",
        "colab_type": "code",
        "colab": {
          "base_uri": "https://localhost:8080/",
          "height": 34
        },
        "outputId": "506545ae-e92c-412e-886a-ae5e1c9159c5"
      },
      "source": [
        "!ls"
      ],
      "execution_count": 5,
      "outputs": [
        {
          "output_type": "stream",
          "text": [
            "sample_data  spark-2.4.5-bin-hadoop2.7\tspark-2.4.5-bin-hadoop2.7.tgz\n"
          ],
          "name": "stdout"
        }
      ]
    },
    {
      "cell_type": "code",
      "metadata": {
        "id": "V9I3aRcRgjjX",
        "colab_type": "code",
        "colab": {}
      },
      "source": [
        "from pyspark.sql import SparkSession\n",
        "spark = SparkSession \\\n",
        "    .builder \\\n",
        "    .appName(\"moive analysis\") \\\n",
        "    .config(\"spark.some.config.option\", \"some-value\") \\\n",
        "    .getOrCreate()"
      ],
      "execution_count": 0,
      "outputs": []
    },
    {
      "cell_type": "markdown",
      "metadata": {
        "id": "f_1901cbjk_U",
        "colab_type": "text"
      },
      "source": [
        "### **Data ETL and Data Exploration**"
      ]
    },
    {
      "cell_type": "code",
      "metadata": {
        "id": "yKjFBuRXjArK",
        "colab_type": "code",
        "colab": {
          "resources": {
            "http://localhost:8080/nbextensions/google.colab/files.js": {
              "data": "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",
              "ok": true,
              "headers": [
                [
                  "content-type",
                  "application/javascript"
                ]
              ],
              "status": 200,
              "status_text": ""
            }
          },
          "base_uri": "https://localhost:8080/",
          "height": 171
        },
        "outputId": "b9fc3da4-5878-4e88-f4ce-01fd4f26dcca"
      },
      "source": [
        "from google.colab import files\n",
        "files.upload()\n",
        "\n",
        "movies_df = spark.read.load(\"movies.csv\", format=\"csv\",header = True)\n",
        "ratings_df = spark.read.load(\"ratings.csv\", format = \"csv\", header = True)\n",
        "links_df = spark.read.load(\"ratings.csv\", format = \"csv\", header = True)\n",
        "tags_df = spark.read.load(\"tags.csv\", format = \"csv\", header = True)"
      ],
      "execution_count": 6,
      "outputs": [
        {
          "output_type": "display_data",
          "data": {
            "text/html": [
              "\n",
              "     <input type=\"file\" id=\"files-53bec833-cd7f-4aeb-8b0f-49f990771bf4\" name=\"files[]\" multiple disabled\n",
              "        style=\"border:none\" />\n",
              "     <output id=\"result-53bec833-cd7f-4aeb-8b0f-49f990771bf4\">\n",
              "      Upload widget is only available when the cell has been executed in the\n",
              "      current browser session. Please rerun this cell to enable.\n",
              "      </output>\n",
              "      <script src=\"/nbextensions/google.colab/files.js\"></script> "
            ],
            "text/plain": [
              "<IPython.core.display.HTML object>"
            ]
          },
          "metadata": {
            "tags": []
          }
        },
        {
          "output_type": "stream",
          "text": [
            "Saving links.csv to links.csv\n",
            "Saving movies.csv to movies.csv\n",
            "Saving ratings.csv to ratings.csv\n",
            "Saving tags.csv to tags.csv\n"
          ],
          "name": "stdout"
        }
      ]
    },
    {
      "cell_type": "code",
      "metadata": {
        "id": "Bkjt0tlzkaKt",
        "colab_type": "code",
        "colab": {
          "base_uri": "https://localhost:8080/",
          "height": 51
        },
        "outputId": "db261b9a-ee7f-4270-aad4-4a0c8ffb304f"
      },
      "source": [
        "!ls"
      ],
      "execution_count": 7,
      "outputs": [
        {
          "output_type": "stream",
          "text": [
            "links.csv   ratings.csv  spark-2.4.5-bin-hadoop2.7\ttags.csv\n",
            "movies.csv  sample_data  spark-2.4.5-bin-hadoop2.7.tgz\n"
          ],
          "name": "stdout"
        }
      ]
    },
    {
      "cell_type": "code",
      "metadata": {
        "id": "-785zbG-jqWo",
        "colab_type": "code",
        "colab": {
          "base_uri": "https://localhost:8080/",
          "height": 204
        },
        "outputId": "f279e6ed-b112-4232-d31a-c80012a811af"
      },
      "source": [
        "movies_df.show(5)"
      ],
      "execution_count": 8,
      "outputs": [
        {
          "output_type": "stream",
          "text": [
            "+-------+--------------------+--------------------+\n",
            "|movieId|               title|              genres|\n",
            "+-------+--------------------+--------------------+\n",
            "|      1|    Toy Story (1995)|Adventure|Animati...|\n",
            "|      2|      Jumanji (1995)|Adventure|Childre...|\n",
            "|      3|Grumpier Old Men ...|      Comedy|Romance|\n",
            "|      4|Waiting to Exhale...|Comedy|Drama|Romance|\n",
            "|      5|Father of the Bri...|              Comedy|\n",
            "+-------+--------------------+--------------------+\n",
            "only showing top 5 rows\n",
            "\n"
          ],
          "name": "stdout"
        }
      ]
    },
    {
      "cell_type": "code",
      "metadata": {
        "id": "-dbYHwiHkc7-",
        "colab_type": "code",
        "colab": {
          "base_uri": "https://localhost:8080/",
          "height": 204
        },
        "outputId": "9107dc2e-73de-4401-a500-7f2085cdef66"
      },
      "source": [
        "ratings_df.show(5)"
      ],
      "execution_count": 9,
      "outputs": [
        {
          "output_type": "stream",
          "text": [
            "+------+-------+------+---------+\n",
            "|userId|movieId|rating|timestamp|\n",
            "+------+-------+------+---------+\n",
            "|     1|      1|   4.0|964982703|\n",
            "|     1|      3|   4.0|964981247|\n",
            "|     1|      6|   4.0|964982224|\n",
            "|     1|     47|   5.0|964983815|\n",
            "|     1|     50|   5.0|964982931|\n",
            "+------+-------+------+---------+\n",
            "only showing top 5 rows\n",
            "\n"
          ],
          "name": "stdout"
        }
      ]
    },
    {
      "cell_type": "code",
      "metadata": {
        "id": "AIl01QNCkuBa",
        "colab_type": "code",
        "colab": {
          "base_uri": "https://localhost:8080/",
          "height": 204
        },
        "outputId": "75f1fe8f-432d-4a2a-f3d2-ea30b2200ef5"
      },
      "source": [
        "links_df.show(5)"
      ],
      "execution_count": 10,
      "outputs": [
        {
          "output_type": "stream",
          "text": [
            "+------+-------+------+---------+\n",
            "|userId|movieId|rating|timestamp|\n",
            "+------+-------+------+---------+\n",
            "|     1|      1|   4.0|964982703|\n",
            "|     1|      3|   4.0|964981247|\n",
            "|     1|      6|   4.0|964982224|\n",
            "|     1|     47|   5.0|964983815|\n",
            "|     1|     50|   5.0|964982931|\n",
            "+------+-------+------+---------+\n",
            "only showing top 5 rows\n",
            "\n"
          ],
          "name": "stdout"
        }
      ]
    },
    {
      "cell_type": "code",
      "metadata": {
        "id": "p1age5-akv1g",
        "colab_type": "code",
        "colab": {
          "base_uri": "https://localhost:8080/",
          "height": 204
        },
        "outputId": "859fa651-a7e9-4b94-ab90-599a5814165b"
      },
      "source": [
        "tags_df.show(5)"
      ],
      "execution_count": 11,
      "outputs": [
        {
          "output_type": "stream",
          "text": [
            "+------+-------+---------------+----------+\n",
            "|userId|movieId|            tag| timestamp|\n",
            "+------+-------+---------------+----------+\n",
            "|     2|  60756|          funny|1445714994|\n",
            "|     2|  60756|Highly quotable|1445714996|\n",
            "|     2|  60756|   will ferrell|1445714992|\n",
            "|     2|  89774|   Boxing story|1445715207|\n",
            "|     2|  89774|            MMA|1445715200|\n",
            "+------+-------+---------------+----------+\n",
            "only showing top 5 rows\n",
            "\n"
          ],
          "name": "stdout"
        }
      ]
    },
    {
      "cell_type": "code",
      "metadata": {
        "id": "3O_ymHiekySf",
        "colab_type": "code",
        "colab": {
          "base_uri": "https://localhost:8080/",
          "height": 459
        },
        "outputId": "26e0cd6a-6455-4f66-dfa3-86214f14dc08"
      },
      "source": [
        "ratings_df.groupBy(\"userID\").count().show()"
      ],
      "execution_count": 12,
      "outputs": [
        {
          "output_type": "stream",
          "text": [
            "+------+-----+\n",
            "|userID|count|\n",
            "+------+-----+\n",
            "|   296|   27|\n",
            "|   467|   22|\n",
            "|   125|  360|\n",
            "|   451|   34|\n",
            "|     7|  152|\n",
            "|    51|  359|\n",
            "|   124|   50|\n",
            "|   447|   78|\n",
            "|   591|   54|\n",
            "|   307|  975|\n",
            "|   475|  155|\n",
            "|   574|   23|\n",
            "|   169|  269|\n",
            "|   205|   27|\n",
            "|   334|  154|\n",
            "|   544|   22|\n",
            "|   577|  161|\n",
            "|   581|   40|\n",
            "|   272|   31|\n",
            "|   442|   20|\n",
            "+------+-----+\n",
            "only showing top 20 rows\n",
            "\n"
          ],
          "name": "stdout"
        }
      ]
    },
    {
      "cell_type": "code",
      "metadata": {
        "id": "uUxU47ySnocm",
        "colab_type": "code",
        "colab": {
          "base_uri": "https://localhost:8080/",
          "height": 68
        },
        "outputId": "4f98c4f5-2b4a-4baa-f841-2840b62590d0"
      },
      "source": [
        "tmp1 = ratings_df.groupBy(\"userID\").count().toPandas()['count'].min()\n",
        "tmp2 = ratings_df.groupBy(\"movieId\").count().toPandas()['count'].min()\n",
        "print('For the users that rated movies and the movies that were rated:')\n",
        "print('Minimum number of ratings per user is {}'.format(tmp1))\n",
        "print('Minimum number of ratings per movie is {}'.format(tmp2))"
      ],
      "execution_count": 13,
      "outputs": [
        {
          "output_type": "stream",
          "text": [
            "For the users that rated movies and the movies that were rated:\n",
            "Minimum number of ratings per user is 20\n",
            "Minimum number of ratings per movie is 1\n"
          ],
          "name": "stdout"
        }
      ]
    },
    {
      "cell_type": "code",
      "metadata": {
        "id": "-Ezm1lP9ny7V",
        "colab_type": "code",
        "colab": {
          "base_uri": "https://localhost:8080/",
          "height": 34
        },
        "outputId": "834d909d-6722-477b-960b-78e70f9a6634"
      },
      "source": [
        "tmp1 = ratings_df.groupBy(\"movieId\").count().toPandas()['count']==1\n",
        "tmp2 = ratings_df.select('movieId').distinct().count()\n",
        "print('{} out of {} movies are rated by only one user'.format(tmp1.sum(), tmp2))"
      ],
      "execution_count": 14,
      "outputs": [
        {
          "output_type": "stream",
          "text": [
            "3446 out of 9724 movies are rated by only one user\n"
          ],
          "name": "stdout"
        }
      ]
    },
    {
      "cell_type": "markdown",
      "metadata": {
        "id": "V-u82y-Tph3h",
        "colab_type": "text"
      },
      "source": [
        "## **Spark SQL and OLAP**"
      ]
    },
    {
      "cell_type": "markdown",
      "metadata": {
        "id": "PawKGcmbyVL7",
        "colab_type": "text"
      },
      "source": [
        "### Register the DataFrame as a local temporary view"
      ]
    },
    {
      "cell_type": "code",
      "metadata": {
        "id": "DqBd1t3Mn6nl",
        "colab_type": "code",
        "colab": {}
      },
      "source": [
        "movies_df.registerTempTable(\"movies\")\n",
        "ratings_df.registerTempTable(\"ratings\")\n",
        "links_df.registerTempTable(\"links\")\n",
        "tags_df.registerTempTable(\"tags\")"
      ],
      "execution_count": 0,
      "outputs": []
    },
    {
      "cell_type": "markdown",
      "metadata": {
        "id": "zklIwof7yVoU",
        "colab_type": "text"
      },
      "source": [
        "### The number of Users\n"
      ]
    },
    {
      "cell_type": "code",
      "metadata": {
        "id": "ZMJqfLQguHSq",
        "colab_type": "code",
        "colab": {
          "base_uri": "https://localhost:8080/",
          "height": 119
        },
        "outputId": "5744177d-8c3d-4490-e471-ef0506b73c47"
      },
      "source": [
        "spark.sql(\n",
        "\"select count(distinct userId) as total_users from ratings\"\n",
        ").show()"
      ],
      "execution_count": 16,
      "outputs": [
        {
          "output_type": "stream",
          "text": [
            "+-----------+\n",
            "|total_users|\n",
            "+-----------+\n",
            "|        610|\n",
            "+-----------+\n",
            "\n"
          ],
          "name": "stdout"
        }
      ]
    },
    {
      "cell_type": "markdown",
      "metadata": {
        "id": "ymjsE-BPy_u-",
        "colab_type": "text"
      },
      "source": [
        "### The number of Movies"
      ]
    },
    {
      "cell_type": "code",
      "metadata": {
        "id": "m7mAPlOgyizx",
        "colab_type": "code",
        "colab": {
          "base_uri": "https://localhost:8080/",
          "height": 119
        },
        "outputId": "08339f4c-cb4d-4c44-8bec-0cfac4141820"
      },
      "source": [
        "spark.sql(\n",
        "    \"select count(distinct movieId) as total_movies from movies\"\n",
        "\n",
        ").show()"
      ],
      "execution_count": 17,
      "outputs": [
        {
          "output_type": "stream",
          "text": [
            "+------------+\n",
            "|total_movies|\n",
            "+------------+\n",
            "|        9742|\n",
            "+------------+\n",
            "\n"
          ],
          "name": "stdout"
        }
      ]
    },
    {
      "cell_type": "markdown",
      "metadata": {
        "id": "C-IR78JCzS2a",
        "colab_type": "text"
      },
      "source": [
        "### numbers of movies that are rated by users:"
      ]
    },
    {
      "cell_type": "code",
      "metadata": {
        "id": "3ij42NzHzLDk",
        "colab_type": "code",
        "colab": {
          "base_uri": "https://localhost:8080/",
          "height": 119
        },
        "outputId": "1f9fade8-679c-4ed4-d8c3-f48854ea328f"
      },
      "source": [
        "spark.sql(\n",
        "    '''\n",
        "    with t as \n",
        "    (select m.movieId, title, genres,userId, rating from \n",
        "    movies m left join ratings r\n",
        "    on m.movieId = r.movieId)\n",
        "\n",
        "    select count(distinct movieId) \n",
        "    from t\n",
        "    where rating is not null\n",
        "    '''\n",
        ").show()"
      ],
      "execution_count": 18,
      "outputs": [
        {
          "output_type": "stream",
          "text": [
            "+-----------------------+\n",
            "|count(DISTINCT movieId)|\n",
            "+-----------------------+\n",
            "|                   9724|\n",
            "+-----------------------+\n",
            "\n"
          ],
          "name": "stdout"
        }
      ]
    },
    {
      "cell_type": "markdown",
      "metadata": {
        "id": "bdOuczDlz4j-",
        "colab_type": "text"
      },
      "source": [
        "### Movies not rated before:"
      ]
    },
    {
      "cell_type": "code",
      "metadata": {
        "id": "c22fCp7WzfhV",
        "colab_type": "code",
        "colab": {
          "base_uri": "https://localhost:8080/",
          "height": 0
        },
        "outputId": "a75dc608-51e0-4296-a634-eb3c6322c7ba"
      },
      "source": [
        "spark.sql(\n",
        "    '''\n",
        "    with t as \n",
        "    (select m.movieId, title, genres,userId, rating from \n",
        "    movies m left join ratings r\n",
        "    on m.movieId = r.movieId)\n",
        "\n",
        "    select movieId, title,genres\n",
        "    from t\n",
        "    where rating is null\n",
        "    group by 1,2,3\n",
        "    '''\n",
        ").show()"
      ],
      "execution_count": 19,
      "outputs": [
        {
          "output_type": "stream",
          "text": [
            "+-------+--------------------+--------------------+\n",
            "|movieId|               title|              genres|\n",
            "+-------+--------------------+--------------------+\n",
            "|   4194|I Know Where I'm ...|   Drama|Romance|War|\n",
            "|   1076|Innocents, The (1...|Drama|Horror|Thri...|\n",
            "|  30892|In the Realms of ...|Animation|Documen...|\n",
            "|  26085|Mutiny on the Bou...|Adventure|Drama|R...|\n",
            "|   5721|  Chosen, The (1981)|               Drama|\n",
            "|  32160|Twentieth Century...|              Comedy|\n",
            "|   2939|      Niagara (1953)|      Drama|Thriller|\n",
            "|  25855|Roaring Twenties,...|Crime|Drama|Thriller|\n",
            "|  32371|Call Northside 77...|Crime|Drama|Film-...|\n",
            "|   6849|      Scrooge (1970)|Drama|Fantasy|Mus...|\n",
            "|   3338|For All Mankind (...|         Documentary|\n",
            "|  85565|  Chalet Girl (2011)|      Comedy|Romance|\n",
            "|   7792|Parallax View, Th...|            Thriller|\n",
            "|   6668|Road Home, The (W...|       Drama|Romance|\n",
            "|   3456|Color of Paradise...|               Drama|\n",
            "|   7020|        Proof (1991)|Comedy|Drama|Romance|\n",
            "|   8765|This Gun for Hire...|Crime|Film-Noir|T...|\n",
            "|  34482|Browning Version,...|               Drama|\n",
            "+-------+--------------------+--------------------+\n",
            "\n"
          ],
          "name": "stdout"
        }
      ]
    },
    {
      "cell_type": "markdown",
      "metadata": {
        "id": "c33BhJ6e0Yfp",
        "colab_type": "text"
      },
      "source": [
        "### List All Movie Genres"
      ]
    },
    {
      "cell_type": "code",
      "metadata": {
        "id": "V2fwFomT0lr8",
        "colab_type": "code",
        "colab": {
          "base_uri": "https://localhost:8080/",
          "height": 0
        },
        "outputId": "35cebdd7-e08a-40c8-da08-146f25181db8"
      },
      "source": [
        "spark.sql(\n",
        "    \"\"\"\n",
        "    select movie_genres from movies\n",
        "    lateral view explode(split(genres, '[|]')) as movie_genres \n",
        "    where movie_genres <> \"(no genres listed)\"\n",
        "    group by 1\n",
        "    order by 1\n",
        "    \"\"\"\n",
        ").show()"
      ],
      "execution_count": 20,
      "outputs": [
        {
          "output_type": "stream",
          "text": [
            "+------------+\n",
            "|movie_genres|\n",
            "+------------+\n",
            "|      Action|\n",
            "|   Adventure|\n",
            "|   Animation|\n",
            "|    Children|\n",
            "|      Comedy|\n",
            "|       Crime|\n",
            "| Documentary|\n",
            "|       Drama|\n",
            "|     Fantasy|\n",
            "|   Film-Noir|\n",
            "|      Horror|\n",
            "|        IMAX|\n",
            "|     Musical|\n",
            "|     Mystery|\n",
            "|     Romance|\n",
            "|      Sci-Fi|\n",
            "|    Thriller|\n",
            "|         War|\n",
            "|     Western|\n",
            "+------------+\n",
            "\n"
          ],
          "name": "stdout"
        }
      ]
    },
    {
      "cell_type": "markdown",
      "metadata": {
        "id": "uzYnKap01T9y",
        "colab_type": "text"
      },
      "source": [
        "### Count Movie for Each Category"
      ]
    },
    {
      "cell_type": "code",
      "metadata": {
        "id": "DA_MMrzg0IE-",
        "colab_type": "code",
        "colab": {
          "base_uri": "https://localhost:8080/",
          "height": 0
        },
        "outputId": "7db28a04-d141-45c9-b7ec-5bd5e3c8ec5e"
      },
      "source": [
        "spark.sql(\n",
        "    \"\"\"\n",
        "select movie_genres,count(*) as total_movies from movies\n",
        "lateral view explode(split(genres,'[|]')) as movie_genres\n",
        "group by 1\n",
        "\"\"\").show()"
      ],
      "execution_count": 21,
      "outputs": [
        {
          "output_type": "stream",
          "text": [
            "+------------------+------------+\n",
            "|      movie_genres|total_movies|\n",
            "+------------------+------------+\n",
            "|             Crime|        1199|\n",
            "|           Romance|        1596|\n",
            "|          Thriller|        1894|\n",
            "|         Adventure|        1263|\n",
            "|             Drama|        4361|\n",
            "|               War|         382|\n",
            "|       Documentary|         440|\n",
            "|           Fantasy|         779|\n",
            "|           Mystery|         573|\n",
            "|           Musical|         334|\n",
            "|         Animation|         611|\n",
            "|         Film-Noir|          87|\n",
            "|(no genres listed)|          34|\n",
            "|              IMAX|         158|\n",
            "|            Horror|         978|\n",
            "|           Western|         167|\n",
            "|            Comedy|        3756|\n",
            "|          Children|         664|\n",
            "|            Action|        1828|\n",
            "|            Sci-Fi|         980|\n",
            "+------------------+------------+\n",
            "\n"
          ],
          "name": "stdout"
        }
      ]
    },
    {
      "cell_type": "markdown",
      "metadata": {
        "id": "M_7IdDzz1toy",
        "colab_type": "text"
      },
      "source": [
        "### List all movie names in each category"
      ]
    },
    {
      "cell_type": "code",
      "metadata": {
        "id": "tjfwXb8e1eyV",
        "colab_type": "code",
        "colab": {
          "base_uri": "https://localhost:8080/",
          "height": 442
        },
        "outputId": "adb101e5-7518-425b-d4dd-4e8d1cf0ad16"
      },
      "source": [
        "spark.sql(\n",
        "    \"\"\"\n",
        "    select t1.movie_genres, concat_ws(\"|\",collect_set(t1.title)) as list_of_movies\n",
        "    from\n",
        "    (\n",
        "    select title,movie_genres from movies\n",
        "    lateral view explode(split(genres, '[|]')) as movie_genres\n",
        "    group by 1,2\n",
        "    ) t1\n",
        "    group by 1    \n",
        "    \"\"\"\n",
        ").show()"
      ],
      "execution_count": 22,
      "outputs": [
        {
          "output_type": "stream",
          "text": [
            "+------------------+--------------------+\n",
            "|      movie_genres|      list_of_movies|\n",
            "+------------------+--------------------+\n",
            "|             Crime|Stealing Rembrand...|\n",
            "|           Romance|Vampire in Brookl...|\n",
            "|          Thriller|Element of Crime,...|\n",
            "|         Adventure|Ice Age: Collisio...|\n",
            "|             Drama|Airport '77 (1977...|\n",
            "|               War|General, The (192...|\n",
            "|       Documentary|The Barkley Marat...|\n",
            "|           Fantasy|Masters of the Un...|\n",
            "|           Mystery|Before and After ...|\n",
            "|           Musical|U2: Rattle and Hu...|\n",
            "|         Animation|Ice Age: Collisio...|\n",
            "|         Film-Noir|Rififi (Du rififi...|\n",
            "|(no genres listed)|T2 3-D: Battle Ac...|\n",
            "|              IMAX|Harry Potter and ...|\n",
            "|            Horror|Sweeney Todd (200...|\n",
            "|           Western|Man Who Shot Libe...|\n",
            "|            Comedy|Hysteria (2011)|H...|\n",
            "|          Children|Ice Age: Collisio...|\n",
            "|            Action|Stealing Rembrand...|\n",
            "|            Sci-Fi|Push (2009)|SORI:...|\n",
            "+------------------+--------------------+\n",
            "\n"
          ],
          "name": "stdout"
        }
      ]
    },
    {
      "cell_type": "markdown",
      "metadata": {
        "id": "nhocSyE5BTno",
        "colab_type": "text"
      },
      "source": [
        "## **Spark ALS based approach for training model**\n",
        "using an Spark ML to predict the ratings"
      ]
    },
    {
      "cell_type": "markdown",
      "metadata": {
        "id": "Xq5NdDCwFeNM",
        "colab_type": "text"
      },
      "source": [
        "ALS (or matrix factorization algorithms) can solve three major problem is user-item matrix:\n",
        "* **Popularity bias**: refers to system recommends the movies with the most interactions without any personalization.\n",
        "* **Item cold-start problem**: refers to when movies added to the catalogue have either none or very little interactions while recommender rely on the movie’s interactions to make recommendations.\n",
        "* **Scalability issue**: refers to lack of the ability to scale to much larger sets of data when more and more users and movies added into our database.\n",
        "\n",
        "\n",
        "matrix factorization algorithms work by decomposing the user-item interaction matrix into the product of two lower dimensionality rectangular matrices. One matrix can be seen as the user matrix where rows represent users and columns are latent factors. The other matrix is the item matrix where rows are latent factors and columns represent items."
      ]
    },
    {
      "cell_type": "code",
      "metadata": {
        "id": "RRPEs6YeCFQq",
        "colab_type": "code",
        "colab": {}
      },
      "source": [
        "from pyspark.ml.evaluation import RegressionEvaluator\n",
        "from pyspark.ml.recommendation import ALS\n",
        "from pyspark.sql import Row\n",
        "from pyspark.ml.tuning import TrainValidationSplit,ParamGridBuilder"
      ],
      "execution_count": 0,
      "outputs": []
    },
    {
      "cell_type": "code",
      "metadata": {
        "id": "f1-zOBtS2Ubq",
        "colab_type": "code",
        "colab": {
          "base_uri": "https://localhost:8080/",
          "height": 102
        },
        "outputId": "77db9b40-4441-4f3c-bddb-e4ea6e6e0a37"
      },
      "source": [
        "ratings_df.head(5)"
      ],
      "execution_count": 24,
      "outputs": [
        {
          "output_type": "execute_result",
          "data": {
            "text/plain": [
              "[Row(userId='1', movieId='1', rating='4.0', timestamp='964982703'),\n",
              " Row(userId='1', movieId='3', rating='4.0', timestamp='964981247'),\n",
              " Row(userId='1', movieId='6', rating='4.0', timestamp='964982224'),\n",
              " Row(userId='1', movieId='47', rating='5.0', timestamp='964983815'),\n",
              " Row(userId='1', movieId='50', rating='5.0', timestamp='964982931')]"
            ]
          },
          "metadata": {
            "tags": []
          },
          "execution_count": 24
        }
      ]
    },
    {
      "cell_type": "code",
      "metadata": {
        "id": "KNdK1R_RCFvN",
        "colab_type": "code",
        "colab": {
          "base_uri": "https://localhost:8080/",
          "height": 119
        },
        "outputId": "6e317b4e-75c6-4da5-c8d1-d449a7a85262"
      },
      "source": [
        "ratings_df.printSchema()"
      ],
      "execution_count": 25,
      "outputs": [
        {
          "output_type": "stream",
          "text": [
            "root\n",
            " |-- userId: string (nullable = true)\n",
            " |-- movieId: string (nullable = true)\n",
            " |-- rating: string (nullable = true)\n",
            " |-- timestamp: string (nullable = true)\n",
            "\n"
          ],
          "name": "stdout"
        }
      ]
    },
    {
      "cell_type": "code",
      "metadata": {
        "id": "75VzdlqZDwYe",
        "colab_type": "code",
        "colab": {}
      },
      "source": [
        "# convert data type in each column\n",
        "ratings_df=ratings_df.withColumn(\"rating\",ratings_df[\"rating\"].cast(\"float\").alias(\"rating\"))\n",
        "ratings_df=ratings_df.withColumn(\"userId\",ratings_df[\"userId\"].cast(\"float\").alias(\"userId\"))\n",
        "ratings_df=ratings_df.withColumn(\"movieId\",ratings_df[\"movieId\"].cast(\"float\").alias(\"movieId\"))"
      ],
      "execution_count": 0,
      "outputs": []
    },
    {
      "cell_type": "code",
      "metadata": {
        "id": "fMbUYOmEzrYN",
        "colab_type": "code",
        "colab": {
          "base_uri": "https://localhost:8080/",
          "height": 119
        },
        "outputId": "0c8cacdd-a9ef-4c51-8797-7dd29edd1b98"
      },
      "source": [
        "ratings_df.printSchema()"
      ],
      "execution_count": 27,
      "outputs": [
        {
          "output_type": "stream",
          "text": [
            "root\n",
            " |-- userId: float (nullable = true)\n",
            " |-- movieId: float (nullable = true)\n",
            " |-- rating: float (nullable = true)\n",
            " |-- timestamp: string (nullable = true)\n",
            "\n"
          ],
          "name": "stdout"
        }
      ]
    },
    {
      "cell_type": "code",
      "metadata": {
        "id": "7KTZ5roaCv8q",
        "colab_type": "code",
        "colab": {}
      },
      "source": [
        "# split into traning and testing dataset \n",
        "(training, test) = ratings_df.randomSplit([0.8, 0.2],seed = 1)"
      ],
      "execution_count": 0,
      "outputs": []
    },
    {
      "cell_type": "code",
      "metadata": {
        "id": "EIpgF8PiCaiu",
        "colab_type": "code",
        "colab": {}
      },
      "source": [
        "# Create ALS model\n",
        "als = ALS(userCol = \"userId\", itemCol=\"movieId\", ratingCol=\"rating\",coldStartStrategy=\"drop\", nonnegative=True)"
      ],
      "execution_count": 0,
      "outputs": []
    },
    {
      "cell_type": "code",
      "metadata": {
        "id": "o9MmGgHE4PDh",
        "colab_type": "code",
        "colab": {}
      },
      "source": [
        "# Tune model using ParamGridBuilder\n",
        "param_grid = ParamGridBuilder().addGrid(als.rank, [8,10,12]).addGrid(als.maxIter, [10,13,16]).addGrid(als.regParam,[0.1,0.15,0.2]).build()\n"
      ],
      "execution_count": 0,
      "outputs": []
    },
    {
      "cell_type": "code",
      "metadata": {
        "id": "EFcuAfcl4PCV",
        "colab_type": "code",
        "colab": {}
      },
      "source": [
        "# Define evaluator as RMSE\n",
        "evaluator = RegressionEvaluator(metricName=\"rmse\", labelCol=\"rating\", predictionCol=\"prediction\")"
      ],
      "execution_count": 0,
      "outputs": []
    },
    {
      "cell_type": "code",
      "metadata": {
        "id": "p8tmTDWz4PA9",
        "colab_type": "code",
        "colab": {}
      },
      "source": [
        "# build cross validation using TranValidationSplit:\n",
        "tvs = TrainValidationSplit(\n",
        "    estimator = als,\n",
        "    estimatorParamMaps=param_grid,\n",
        "    evaluator = evaluator\n",
        ")"
      ],
      "execution_count": 0,
      "outputs": []
    },
    {
      "cell_type": "code",
      "metadata": {
        "id": "bfVqreJh4O_y",
        "colab_type": "code",
        "colab": {}
      },
      "source": [
        "# Fit ALS model to training data\n",
        "model = tvs.fit(training)"
      ],
      "execution_count": 0,
      "outputs": []
    },
    {
      "cell_type": "code",
      "metadata": {
        "id": "wbZo-RQe4O-t",
        "colab_type": "code",
        "colab": {}
      },
      "source": [
        "# Extract best model from the tuning exercise using ParamGridBuilder\n",
        "best_model = model.bestModel"
      ],
      "execution_count": 0,
      "outputs": []
    },
    {
      "cell_type": "markdown",
      "metadata": {
        "id": "6UGMIko1NBgQ",
        "colab_type": "text"
      },
      "source": [
        "### Model Performance Review"
      ]
    },
    {
      "cell_type": "code",
      "metadata": {
        "id": "-erRrKcc4O10",
        "colab_type": "code",
        "colab": {
          "base_uri": "https://localhost:8080/",
          "height": 102
        },
        "outputId": "b6027f63-9712-45b4-98da-82769f341093"
      },
      "source": [
        "# Generate predictions and evaluate using RMSE\n",
        "predictions = best_model.transform(test)\n",
        "rmse = evaluator.evaluate(predictions)\n",
        "\n",
        "# Print evaluation metrics and model paramters\n",
        "print(\"RMSE = \" + str(rmse))\n",
        "print(\"**Best Model**\")\n",
        "print(\" Rank:\", best_model.rank)\n",
        "print(\" Max Iteration:\", best_model._java_obj.parent().getMaxIter())\n",
        "print(\" Regularization Prameter:\", best_model._java_obj.parent().getRegParam())"
      ],
      "execution_count": 35,
      "outputs": [
        {
          "output_type": "stream",
          "text": [
            "RMSE = 0.8664431619085703\n",
            "**Best Model**\n",
            " Rank: 12\n",
            " Max Iteration: 16\n",
            " Regularization Prameter: 0.15\n"
          ],
          "name": "stdout"
        }
      ]
    },
    {
      "cell_type": "code",
      "metadata": {
        "id": "yJLZmZZ24OxR",
        "colab_type": "code",
        "colab": {
          "base_uri": "https://localhost:8080/",
          "height": 459
        },
        "outputId": "1cb2c8d2-ba57-4c2e-c465-4d1419d04915"
      },
      "source": [
        "predictions.sort(\"userId\",\"rating\").show()"
      ],
      "execution_count": 36,
      "outputs": [
        {
          "output_type": "stream",
          "text": [
            "+------+-------+------+---------+----------+\n",
            "|userId|movieId|rating|timestamp|prediction|\n",
            "+------+-------+------+---------+----------+\n",
            "|   1.0| 2253.0|   2.0|964981775|  2.790835|\n",
            "|   1.0| 2093.0|   3.0|964981710|  3.841168|\n",
            "|   1.0| 1580.0|   3.0|964981125|  4.037686|\n",
            "|   1.0| 2528.0|   3.0|964982328| 3.9250891|\n",
            "|   1.0| 2012.0|   4.0|964984176| 3.9534652|\n",
            "|   1.0| 2174.0|   4.0|964981680|  4.192763|\n",
            "|   1.0| 2143.0|   4.0|964981725| 3.4630847|\n",
            "|   1.0| 1920.0|   4.0|964981780| 3.4460292|\n",
            "|   1.0| 2000.0|   4.0|964982211|  4.514837|\n",
            "|   1.0|  733.0|   4.0|964982400| 4.0785794|\n",
            "|   1.0|  441.0|   4.0|964980868|  4.519026|\n",
            "|   1.0| 3479.0|   4.0|964981725| 3.7726712|\n",
            "|   1.0|  804.0|   4.0|964980499| 3.8279953|\n",
            "|   1.0| 2797.0|   4.0|964981710|  4.542713|\n",
            "|   1.0|  356.0|   4.0|964980962| 4.9645176|\n",
            "|   1.0|  590.0|   4.0|964982546| 4.2179103|\n",
            "|   1.0| 2268.0|   4.0|964982989|  4.421379|\n",
            "|   1.0| 2105.0|   4.0|964981725|  3.814401|\n",
            "|   1.0| 2193.0|   4.0|964981710| 4.0744576|\n",
            "|   1.0| 2542.0|   5.0|964981265|  4.726344|\n",
            "+------+-------+------+---------+----------+\n",
            "only showing top 20 rows\n",
            "\n"
          ],
          "name": "stdout"
        }
      ]
    },
    {
      "cell_type": "markdown",
      "metadata": {
        "id": "MHIjl5PAN4md",
        "colab_type": "text"
      },
      "source": [
        "### Integrate all movie details with prediction"
      ]
    },
    {
      "cell_type": "code",
      "metadata": {
        "id": "6rQTdEtoN-_1",
        "colab_type": "code",
        "colab": {
          "base_uri": "https://localhost:8080/",
          "height": 204
        },
        "outputId": "3cf14206-af05-4fad-9e6a-c793f201a326"
      },
      "source": [
        "# predictions of all movies\n",
        "all_ratings = best_model.transform(ratings_df)\n",
        "all_ratings.sort(\"userId\",\"rating\").show(5)"
      ],
      "execution_count": 37,
      "outputs": [
        {
          "output_type": "stream",
          "text": [
            "+------+-------+------+---------+----------+\n",
            "|userId|movieId|rating|timestamp|prediction|\n",
            "+------+-------+------+---------+----------+\n",
            "|   1.0| 3176.0|   1.0|964983504| 3.7147639|\n",
            "|   1.0| 2617.0|   2.0|964982588| 3.5550163|\n",
            "|   1.0| 2389.0|   2.0|964983094| 2.3704185|\n",
            "|   1.0| 2253.0|   2.0|964981775|  2.790835|\n",
            "|   1.0| 1219.0|   2.0|964983393| 4.6032495|\n",
            "+------+-------+------+---------+----------+\n",
            "only showing top 5 rows\n",
            "\n"
          ],
          "name": "stdout"
        }
      ]
    },
    {
      "cell_type": "code",
      "metadata": {
        "id": "TlfLRIJ1Ofz0",
        "colab_type": "code",
        "colab": {
          "base_uri": "https://localhost:8080/",
          "height": 204
        },
        "outputId": "3afc9bba-902f-4616-f338-5810c71cd547"
      },
      "source": [
        "# combine all tables together\n",
        "all_ratings.registerTempTable(\"movie_ratings\")\n",
        "output = spark.sql(\"\"\"\n",
        "select m.movieId,m.title, m.genres, mr.userId, mr.rating, mr.prediction as predicted_rating from movie_ratings mr\n",
        "join movies m\n",
        "on m.movieId = mr.movieId\n",
        "order by 1\n",
        "\"\"\")\n",
        "output.show(5)"
      ],
      "execution_count": 38,
      "outputs": [
        {
          "output_type": "stream",
          "text": [
            "+-------+----------------+--------------------+------+------+----------------+\n",
            "|movieId|           title|              genres|userId|rating|predicted_rating|\n",
            "+-------+----------------+--------------------+------+------+----------------+\n",
            "|      1|Toy Story (1995)|Adventure|Animati...| 580.0|   3.0|        3.355442|\n",
            "|      1|Toy Story (1995)|Adventure|Animati...| 451.0|   5.0|       4.1405187|\n",
            "|      1|Toy Story (1995)|Adventure|Animati...| 137.0|   4.0|       3.5994177|\n",
            "|      1|Toy Story (1995)|Adventure|Animati...|  31.0|   5.0|        4.429274|\n",
            "|      1|Toy Story (1995)|Adventure|Animati...| 471.0|   5.0|       3.3352134|\n",
            "+-------+----------------+--------------------+------+------+----------------+\n",
            "only showing top 5 rows\n",
            "\n"
          ],
          "name": "stdout"
        }
      ]
    },
    {
      "cell_type": "markdown",
      "metadata": {
        "id": "duQV_g6FQWFm",
        "colab_type": "text"
      },
      "source": [
        "### Recommend Movie to Users with User Id 575, 232"
      ]
    },
    {
      "cell_type": "code",
      "metadata": {
        "id": "t_T6BJfo4Ovz",
        "colab_type": "code",
        "colab": {}
      },
      "source": [
        "# recommend top 10 movies for each user:\n",
        "user_recs = best_model.recommendForAllUsers(10)"
      ],
      "execution_count": 0,
      "outputs": []
    },
    {
      "cell_type": "code",
      "metadata": {
        "id": "G3rCLECYCi5C",
        "colab_type": "code",
        "colab": {}
      },
      "source": [
        "# helper function to get recommendation for single user\n",
        "def get_recs_for_user(recs,user_id):\n",
        "  # recs should be for a specific user\n",
        "  recs = recs.filter(recs.userId == user_id)\n",
        "  recs = recs.select(\"recommendations.movieId\",\"recommendations.rating\")\n",
        "  movies = recs.select(\"movieId\").toPandas().iloc[0,0]\n",
        "  ratings = recs.select(\"rating\").toPandas().iloc[0,0]\n",
        "  ratings_matrix = pd.DataFrame(movies, columns = [\"movieId\"])\n",
        "  ratings_matrix[\"ratings\"] = ratings\n",
        "  ratings_matrix_ps = spark.createDataFrame(ratings_matrix)\n",
        "  ratings_matrix_ps.registerTempTable(\"rec_user_id\")\n",
        "  output = spark.sql(\"\"\"\n",
        "  select m.movieId, m.title, m.genres, mr.ratings as predicted_rating \n",
        "  from rec_user_id mr\n",
        "  join movies m\n",
        "  on m.movieId = mr.movieId\n",
        "  order by 1\n",
        "  \"\"\")\n",
        "  return output"
      ],
      "execution_count": 0,
      "outputs": []
    },
    {
      "cell_type": "code",
      "metadata": {
        "id": "jznuK2c7Ji-Q",
        "colab_type": "code",
        "colab": {
          "base_uri": "https://localhost:8080/",
          "height": 272
        },
        "outputId": "19b83104-6282-4b59-f25f-8532a6765a0c"
      },
      "source": [
        "rec_575 = get_recs_for_user(user_recs, 575)\n",
        "rec_575.show()"
      ],
      "execution_count": 41,
      "outputs": [
        {
          "output_type": "stream",
          "text": [
            "+-------+--------------------+--------------------+------------------+\n",
            "|movieId|               title|              genres|  predicted_rating|\n",
            "+-------+--------------------+--------------------+------------------+\n",
            "| 132333|         Seve (2014)|   Documentary|Drama| 5.205399990081787|\n",
            "| 136469|Larry David: Curb...|              Comedy| 4.867447376251221|\n",
            "| 141718|    Deathgasm (2015)|       Comedy|Horror| 5.005445957183838|\n",
            "| 177593|Three Billboards ...|         Crime|Drama| 5.160107135772705|\n",
            "|  27555|        Fubar (2002)|              Comedy|5.2005085945129395|\n",
            "|   3567|   Bossa Nova (2000)|Comedy|Drama|Romance|  4.97910213470459|\n",
            "|   5490|  The Big Bus (1976)|       Action|Comedy| 5.205399990081787|\n",
            "|  68945|Neon Genesis Evan...|Action|Animation|...| 4.990872383117676|\n",
            "|  84847|         Emma (2009)|Comedy|Drama|Romance| 5.053614616394043|\n",
            "|  97866|Imposter, The (2012)|         Documentary| 4.881421089172363|\n",
            "+-------+--------------------+--------------------+------------------+\n",
            "\n"
          ],
          "name": "stdout"
        }
      ]
    },
    {
      "cell_type": "code",
      "metadata": {
        "id": "IXOWPjqLSF3M",
        "colab_type": "code",
        "colab": {
          "base_uri": "https://localhost:8080/",
          "height": 272
        },
        "outputId": "3aacc97f-78c2-4329-c6aa-01dcc0eba98b"
      },
      "source": [
        "rec_232 = get_recs_for_user(user_recs, 232)\n",
        "rec_232.show()"
      ],
      "execution_count": 42,
      "outputs": [
        {
          "output_type": "stream",
          "text": [
            "+-------+--------------------+--------------------+-----------------+\n",
            "|movieId|               title|              genres| predicted_rating|\n",
            "+-------+--------------------+--------------------+-----------------+\n",
            "| 117531|    Watermark (2014)|         Documentary| 4.51733922958374|\n",
            "| 138966|Nasu: Summer in A...|           Animation| 4.51733922958374|\n",
            "| 179135|Blue Planet II (2...|         Documentary| 4.51733922958374|\n",
            "| 184245|De platte jungle ...|         Documentary| 4.51733922958374|\n",
            "|  59018| Visitor, The (2007)|       Drama|Romance| 4.60425329208374|\n",
            "|  67618|Strictly Sexual (...|Comedy|Drama|Romance|4.545541286468506|\n",
            "|  68945|Neon Genesis Evan...|Action|Animation|...|4.602782726287842|\n",
            "|   7481|   Enemy Mine (1985)|Adventure|Drama|S...| 4.60425329208374|\n",
            "|   7841|Children of Dune ...|      Fantasy|Sci-Fi| 4.60425329208374|\n",
            "|  84273|Zeitgeist: Moving...|         Documentary| 4.51733922958374|\n",
            "+-------+--------------------+--------------------+-----------------+\n",
            "\n"
          ],
          "name": "stdout"
        }
      ]
    },
    {
      "cell_type": "code",
      "metadata": {
        "id": "OojvmR2q4OqJ",
        "colab_type": "code",
        "colab": {}
      },
      "source": [
        " "
      ],
      "execution_count": 0,
      "outputs": []
    },
    {
      "cell_type": "markdown",
      "metadata": {
        "id": "KrbyYud9LkKA",
        "colab_type": "text"
      },
      "source": [
        "### Find the similar moives for moive with id: 20, 471"
      ]
    },
    {
      "cell_type": "code",
      "metadata": {
        "id": "H1WZKnNaaQM6",
        "colab_type": "code",
        "colab": {}
      },
      "source": [
        "item_matrix = best_model.itemFactors.toPandas()"
      ],
      "execution_count": 0,
      "outputs": []
    },
    {
      "cell_type": "code",
      "metadata": {
        "id": "y1bA6_B14OmO",
        "colab_type": "code",
        "colab": {
          "base_uri": "https://localhost:8080/",
          "height": 204
        },
        "outputId": "cec74704-32f6-4ad9-be64-d0dd08f460aa"
      },
      "source": [
        "item_matrix.head(5)"
      ],
      "execution_count": 58,
      "outputs": [
        {
          "output_type": "execute_result",
          "data": {
            "text/html": [
              "<div>\n",
              "<style scoped>\n",
              "    .dataframe tbody tr th:only-of-type {\n",
              "        vertical-align: middle;\n",
              "    }\n",
              "\n",
              "    .dataframe tbody tr th {\n",
              "        vertical-align: top;\n",
              "    }\n",
              "\n",
              "    .dataframe thead th {\n",
              "        text-align: right;\n",
              "    }\n",
              "</style>\n",
              "<table border=\"1\" class=\"dataframe\">\n",
              "  <thead>\n",
              "    <tr style=\"text-align: right;\">\n",
              "      <th></th>\n",
              "      <th>id</th>\n",
              "      <th>features</th>\n",
              "    </tr>\n",
              "  </thead>\n",
              "  <tbody>\n",
              "    <tr>\n",
              "      <th>0</th>\n",
              "      <td>10</td>\n",
              "      <td>[0.41787663102149963, 0.3383692800998688, 0.78...</td>\n",
              "    </tr>\n",
              "    <tr>\n",
              "      <th>1</th>\n",
              "      <td>20</td>\n",
              "      <td>[0.22600792348384857, 0.5697260499000549, 1.10...</td>\n",
              "    </tr>\n",
              "    <tr>\n",
              "      <th>2</th>\n",
              "      <td>30</td>\n",
              "      <td>[0.0, 0.9015459418296814, 0.14938445389270782,...</td>\n",
              "    </tr>\n",
              "    <tr>\n",
              "      <th>3</th>\n",
              "      <td>40</td>\n",
              "      <td>[0.2672193646430969, 0.00402192585170269, 1.30...</td>\n",
              "    </tr>\n",
              "    <tr>\n",
              "      <th>4</th>\n",
              "      <td>50</td>\n",
              "      <td>[0.2349940687417984, 0.5992927551269531, 1.314...</td>\n",
              "    </tr>\n",
              "  </tbody>\n",
              "</table>\n",
              "</div>"
            ],
            "text/plain": [
              "   id                                           features\n",
              "0  10  [0.41787663102149963, 0.3383692800998688, 0.78...\n",
              "1  20  [0.22600792348384857, 0.5697260499000549, 1.10...\n",
              "2  30  [0.0, 0.9015459418296814, 0.14938445389270782,...\n",
              "3  40  [0.2672193646430969, 0.00402192585170269, 1.30...\n",
              "4  50  [0.2349940687417984, 0.5992927551269531, 1.314..."
            ]
          },
          "metadata": {
            "tags": []
          },
          "execution_count": 58
        }
      ]
    },
    {
      "cell_type": "code",
      "metadata": {
        "id": "Y4gZcuVG4OhE",
        "colab_type": "code",
        "colab": {}
      },
      "source": [
        "a = np.asarray(item_matrix[item_matrix[\"id\"]==10].features.to_numpy()[0])"
      ],
      "execution_count": 0,
      "outputs": []
    },
    {
      "cell_type": "code",
      "metadata": {
        "id": "iMUb-e_O4OeY",
        "colab_type": "code",
        "colab": {}
      },
      "source": [
        "b = np.asarray(item_matrix.features[0])"
      ],
      "execution_count": 0,
      "outputs": []
    },
    {
      "cell_type": "code",
      "metadata": {
        "id": "7ykXvHonC35h",
        "colab_type": "code",
        "colab": {}
      },
      "source": [
        "def euclidean_distance(a,b):\n",
        "  return np.sqrt(np.sum(np.asarray(a)-np.asarray(b))**2)"
      ],
      "execution_count": 0,
      "outputs": []
    },
    {
      "cell_type": "code",
      "metadata": {
        "id": "2lMfDEuUzelR",
        "colab_type": "code",
        "colab": {}
      },
      "source": [
        "def similar_movie(movie_id, model):\n",
        "  item_matrix = model.itemFactors.toPandas()\n",
        "  try:\n",
        "    target = item_matrix[item_matrix[\"id\"]==movie_id].features.to_numpy()[0]\n",
        "  except:\n",
        "    return \"Movie Id not found\"\n",
        "  rest_movies = item_matrix[item_matrix.id != movie_id]\n",
        "  distance = []\n",
        "  for i in range(0,rest_movies.shape[0]):\n",
        "    feature = rest_movies.features.to_numpy()[i]\n",
        "    dist = euclidean_distance(target, feature)\n",
        "    distance.append(dist)\n",
        "  rest_movies[\"distance\"] = distance\n",
        "  sim_mov = spark.createDataFrame(rest_movies)\n",
        "  sim_mov.registerTempTable(\"sim_mov_sql\")\n",
        "  output = spark.sql(\"\"\"\n",
        "  select m.movieId,m.title,m.genres from movies m\n",
        "  join sim_mov_sql ss\n",
        "  on m.movieId = ss.id\n",
        "  order by ss.distance\n",
        "  limit 10\n",
        "  \"\"\")\n",
        "  return output\n",
        "\n"
      ],
      "execution_count": 0,
      "outputs": []
    },
    {
      "cell_type": "code",
      "metadata": {
        "id": "GhI7KgIoCvrN",
        "colab_type": "code",
        "colab": {
          "base_uri": "https://localhost:8080/",
          "height": 272
        },
        "outputId": "ba6e2cfa-c1da-48b3-cd55-788d6890d19f"
      },
      "source": [
        "similar_movie(471, best_model).show()"
      ],
      "execution_count": 237,
      "outputs": [
        {
          "output_type": "stream",
          "text": [
            "+-------+--------------------+--------------------+\n",
            "|movieId|               title|              genres|\n",
            "+-------+--------------------+--------------------+\n",
            "|     40|Cry, the Beloved ...|               Drama|\n",
            "|  38038|Wallace & Gromit ...|Adventure|Animati...|\n",
            "|  79798|I Killed My Mothe...|               Drama|\n",
            "|      6|         Heat (1995)|Action|Crime|Thri...|\n",
            "|  47970|Last Kiss, The (2...|        Comedy|Drama|\n",
            "|   1682|Truman Show, The ...| Comedy|Drama|Sci-Fi|\n",
            "| 143385|Bridge of Spies (...|      Drama|Thriller|\n",
            "|  56339|Orphanage, The (O...|Drama|Horror|Myst...|\n",
            "|   1210|Star Wars: Episod...|Action|Adventure|...|\n",
            "|   8340|Escape from Alcat...|      Drama|Thriller|\n",
            "+-------+--------------------+--------------------+\n",
            "\n"
          ],
          "name": "stdout"
        }
      ]
    },
    {
      "cell_type": "code",
      "metadata": {
        "id": "a1Fb6iGv1k1J",
        "colab_type": "code",
        "colab": {
          "base_uri": "https://localhost:8080/",
          "height": 272
        },
        "outputId": "241bb6b1-a989-4db5-8cd2-685fdfd2ecb8"
      },
      "source": [
        "similar_movie(7720, best_model).show()"
      ],
      "execution_count": 235,
      "outputs": [
        {
          "output_type": "stream",
          "text": [
            "+-------+--------------------+--------------------+\n",
            "|movieId|               title|              genres|\n",
            "+-------+--------------------+--------------------+\n",
            "|  67408|Monsters vs. Alie...|Animation|Sci-Fi|...|\n",
            "|     10|    GoldenEye (1995)|Action|Adventure|...|\n",
            "|   7937|Silence, The (Tys...|               Drama|\n",
            "|  84553|Pekka ja Pätkä sa...|              Comedy|\n",
            "|  86000|          Boy (2010)|        Comedy|Drama|\n",
            "|   2622|William Shakespea...|      Comedy|Fantasy|\n",
            "| 175303|           It (2017)|              Horror|\n",
            "|  48043|Fountain, The (2006)|Drama|Fantasy|Rom...|\n",
            "|   1717|     Scream 2 (1997)|Comedy|Horror|Mys...|\n",
            "|  95875| Total Recall (2012)|Action|Sci-Fi|Thr...|\n",
            "+-------+--------------------+--------------------+\n",
            "\n"
          ],
          "name": "stdout"
        }
      ]
    },
    {
      "cell_type": "code",
      "metadata": {
        "id": "Gu_8kwdmA1vI",
        "colab_type": "code",
        "colab": {
          "base_uri": "https://localhost:8080/",
          "height": 34
        },
        "outputId": "7e99a621-656d-41d3-fca3-33b18e33e769"
      },
      "source": [
        "similar_movie(463, best_model)"
      ],
      "execution_count": 239,
      "outputs": [
        {
          "output_type": "execute_result",
          "data": {
            "text/plain": [
              "'Movie Id not found'"
            ]
          },
          "metadata": {
            "tags": []
          },
          "execution_count": 239
        }
      ]
    },
    {
      "cell_type": "markdown",
      "metadata": {
        "id": "d5t4bRXJDViw",
        "colab_type": "text"
      },
      "source": [
        "# **Summary**:\n",
        "\n",
        "In this project, I used ALS mdoel to do movies recommendations. For example, recommend 10 different movies for a specific user based on his/her preference. \n",
        "\n",
        "In addition, the model also recommends 10 similar movies based on one specific movie. If any user like a specific movie, I can recommend 10 similar movies he/she might like. \n",
        "\n",
        "The model was tuned by grid search and cross validation. After tuning the hyper-parameter and getting parameter from gradient descent, the latent features (rank) is 12 and the rmse is 0.866 in the testing dataset. \n",
        "\n",
        "\n"
      ]
    }
  ]
}